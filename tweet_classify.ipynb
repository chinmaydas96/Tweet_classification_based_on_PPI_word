{
 "cells": [
  {
   "cell_type": "markdown",
   "metadata": {},
   "source": [
    "# <center>Crisp Methodlogy</center>"
   ]
  },
  {
   "cell_type": "markdown",
   "metadata": {},
   "source": [
    "\n",
    "<img src=\"crisp.png\" width=\"400\">"
   ]
  },
  {
   "cell_type": "markdown",
   "metadata": {},
   "source": [
    "***\n",
    "\n",
    "# <center>1.Business Understanding</center>\n",
    "\n",
    "***"
   ]
  },
  {
   "cell_type": "markdown",
   "metadata": {},
   "source": [
    "### Predict how susceptible Online Social Network (OSN) users are to social engineering attack using Machine learning algorithm SVM"
   ]
  },
  {
   "cell_type": "markdown",
   "metadata": {},
   "source": [
    "***\n",
    "\n",
    "# <center>2.Data Understanding</center>\n",
    "\n",
    "***"
   ]
  },
  {
   "cell_type": "code",
   "execution_count": 1,
   "metadata": {},
   "outputs": [],
   "source": [
    "# Import the libraries\n",
    "\n",
    "import pandas as pd\n",
    "import matplotlib.pyplot as plt\n",
    "import re\n",
    "import numpy as np"
   ]
  },
  {
   "cell_type": "code",
   "execution_count": 2,
   "metadata": {},
   "outputs": [
    {
     "data": {
      "text/html": [
       "<div>\n",
       "<style scoped>\n",
       "    .dataframe tbody tr th:only-of-type {\n",
       "        vertical-align: middle;\n",
       "    }\n",
       "\n",
       "    .dataframe tbody tr th {\n",
       "        vertical-align: top;\n",
       "    }\n",
       "\n",
       "    .dataframe thead th {\n",
       "        text-align: right;\n",
       "    }\n",
       "</style>\n",
       "<table border=\"1\" class=\"dataframe\">\n",
       "  <thead>\n",
       "    <tr style=\"text-align: right;\">\n",
       "      <th></th>\n",
       "      <th>name</th>\n",
       "      <th>tweet</th>\n",
       "    </tr>\n",
       "  </thead>\n",
       "  <tbody>\n",
       "    <tr>\n",
       "      <th>0</th>\n",
       "      <td>_TheSpecialOne_</td>\n",
       "      <td>@switchfoot http://twitpic.com/2y1zl - Awww, t...</td>\n",
       "    </tr>\n",
       "    <tr>\n",
       "      <th>1</th>\n",
       "      <td>scotthamilton</td>\n",
       "      <td>is upset that he can't update his Facebook by ...</td>\n",
       "    </tr>\n",
       "    <tr>\n",
       "      <th>2</th>\n",
       "      <td>mattycus</td>\n",
       "      <td>@Kenichan I dived many times for the ball. Man...</td>\n",
       "    </tr>\n",
       "    <tr>\n",
       "      <th>3</th>\n",
       "      <td>ElleCTF</td>\n",
       "      <td>my whole body feels itchy and like its on fire</td>\n",
       "    </tr>\n",
       "    <tr>\n",
       "      <th>4</th>\n",
       "      <td>Karoli</td>\n",
       "      <td>@nationwideclass no, it's not behaving at all....</td>\n",
       "    </tr>\n",
       "  </tbody>\n",
       "</table>\n",
       "</div>"
      ],
      "text/plain": [
       "              name                                              tweet\n",
       "0  _TheSpecialOne_  @switchfoot http://twitpic.com/2y1zl - Awww, t...\n",
       "1    scotthamilton  is upset that he can't update his Facebook by ...\n",
       "2         mattycus  @Kenichan I dived many times for the ball. Man...\n",
       "3          ElleCTF    my whole body feels itchy and like its on fire \n",
       "4           Karoli  @nationwideclass no, it's not behaving at all...."
      ]
     },
     "execution_count": 2,
     "metadata": {},
     "output_type": "execute_result"
    }
   ],
   "source": [
    "# Load the dataframe\n",
    "\n",
    "df = pd.read_csv('train.csv')\n",
    "df.head()"
   ]
  },
  {
   "cell_type": "code",
   "execution_count": 3,
   "metadata": {},
   "outputs": [
    {
     "name": "stdout",
     "output_type": "stream",
     "text": [
      "Shape of original dataset (1600000, 2)\n"
     ]
    }
   ],
   "source": [
    "# Shape of the original data\n",
    "\n",
    "print(\"Shape of original dataset\",df.shape)"
   ]
  },
  {
   "cell_type": "markdown",
   "metadata": {},
   "source": [
    "# <center>3.Data Preparation</center>"
   ]
  },
  {
   "cell_type": "markdown",
   "metadata": {},
   "source": [
    "### Features use\n",
    "\n",
    "\n",
    "* Mail address\n",
    "* date of birth / age\n",
    "* Bank details\n",
    "* Phone number\n",
    "* Address"
   ]
  },
  {
   "cell_type": "markdown",
   "metadata": {},
   "source": [
    "## Preprocessing the data"
   ]
  },
  {
   "cell_type": "markdown",
   "metadata": {},
   "source": [
    "### HTML decoding"
   ]
  },
  {
   "cell_type": "code",
   "execution_count": 4,
   "metadata": {},
   "outputs": [
    {
     "name": "stdout",
     "output_type": "stream",
     "text": [
      "Whinging. My client&amp;boss don't understand English well. Rewrote some text unreadable. It's written by v. good writer&amp;reviewed correctly. \n"
     ]
    }
   ],
   "source": [
    "print(df.tweet[279])"
   ]
  },
  {
   "cell_type": "code",
   "execution_count": 5,
   "metadata": {},
   "outputs": [
    {
     "name": "stdout",
     "output_type": "stream",
     "text": [
      "Whinging. My client&boss don't understand English well. Rewrote some text unreadable. It's written by v. good writer&reviewed correctly. \n"
     ]
    }
   ],
   "source": [
    "from bs4 import BeautifulSoup\n",
    "example1 = BeautifulSoup(df.tweet[279], 'lxml')\n",
    "print (example1.get_text())"
   ]
  },
  {
   "cell_type": "markdown",
   "metadata": {},
   "source": [
    "### Remove @mention"
   ]
  },
  {
   "cell_type": "code",
   "execution_count": 6,
   "metadata": {},
   "outputs": [
    {
     "name": "stdout",
     "output_type": "stream",
     "text": [
      "@TheLeagueSF Not Fun &amp; Furious? The new mantra for the Bay 2 Breakers? It was getting 2 rambunctious;the city overreacted &amp; clamped down \n"
     ]
    }
   ],
   "source": [
    "print(df.tweet[343])"
   ]
  },
  {
   "cell_type": "code",
   "execution_count": 7,
   "metadata": {},
   "outputs": [
    {
     "name": "stdout",
     "output_type": "stream",
     "text": [
      " Not Fun &amp; Furious? The new mantra for the Bay 2 Breakers? It was getting 2 rambunctious;the city overreacted &amp; clamped down \n"
     ]
    }
   ],
   "source": [
    "print(re.sub(r'@[A-Za-z0-9]+','',df.tweet[343]))"
   ]
  },
  {
   "cell_type": "markdown",
   "metadata": {},
   "source": [
    "### Remove non-ASCII character"
   ]
  },
  {
   "cell_type": "code",
   "execution_count": 8,
   "metadata": {},
   "outputs": [
    {
     "name": "stdout",
     "output_type": "stream",
     "text": [
      "Tuesdayï¿½ll start with reflection ï¿½n then a lecture in Stress reducing techniques. That sure might become very useful for us accompaniers \n"
     ]
    }
   ],
   "source": [
    "print(df.tweet[226])"
   ]
  },
  {
   "cell_type": "code",
   "execution_count": 9,
   "metadata": {},
   "outputs": [
    {
     "name": "stdout",
     "output_type": "stream",
     "text": [
      "Tuesday   ll start with reflection    n then a lecture in Stress reducing techniques. That sure might become very useful for us accompaniers \n"
     ]
    }
   ],
   "source": [
    "print(''.join([i if ord(i) < 128 else ' ' for i in df.tweet[226]]))"
   ]
  },
  {
   "cell_type": "markdown",
   "metadata": {},
   "source": [
    "### Remove Hashtag"
   ]
  },
  {
   "cell_type": "code",
   "execution_count": 10,
   "metadata": {},
   "outputs": [
    {
     "name": "stdout",
     "output_type": "stream",
     "text": [
      "@machineplay I'm so sorry you're having to go through this. Again.  #therapyfail\n"
     ]
    }
   ],
   "source": [
    "print(df['tweet'][175])"
   ]
  },
  {
   "cell_type": "code",
   "execution_count": 11,
   "metadata": {},
   "outputs": [
    {
     "name": "stdout",
     "output_type": "stream",
     "text": [
      "@machineplay I'm so sorry you're having to go through this. Again.  \n"
     ]
    }
   ],
   "source": [
    "print(re.sub(r'(\\s)#\\w+', r'\\1', df['tweet'][175]))"
   ]
  },
  {
   "cell_type": "markdown",
   "metadata": {},
   "source": [
    "## Process on all tweet"
   ]
  },
  {
   "cell_type": "code",
   "execution_count": 12,
   "metadata": {},
   "outputs": [],
   "source": [
    "from nltk.tokenize import WordPunctTokenizer\n",
    "from bs4 import BeautifulSoup\n",
    "\n",
    "# start the wordtokenizer instance\n",
    "tok = WordPunctTokenizer()"
   ]
  },
  {
   "cell_type": "code",
   "execution_count": 13,
   "metadata": {},
   "outputs": [],
   "source": [
    "#at_rate = r'@[a-z0-9_]+'\n",
    "\n",
    "# regex for extracting @tag\n",
    "at_rate = r'(?<=^|(?<=[^a-zA-Z0-9-_\\.]))@([A-Za-z]+[A-Za-z0-9-_]+)'\n",
    "\n",
    "# regex for extract url link\n",
    "url_link = r'https?://[A-Za-z0-9./]+'\n",
    "\n",
    "# regex for hashtag\n",
    "hashtag = r'(\\s)#\\w+'\n",
    "\n",
    "# Combine both regex\n",
    "combine = r'|'.join((at_rate, url_link))\n",
    "\n",
    "def preprosessing(text):\n",
    "    \n",
    "    # parse text in lxml format\n",
    "    soup = BeautifulSoup(text, 'lxml')\n",
    "    \n",
    "     # extract the text\n",
    "    new_text = soup.get_text()\n",
    "    \n",
    "    # subtract the @tag and url link\n",
    "    strip_text = re.sub(combine, '', new_text)\n",
    "    \n",
    "    \n",
    "    # remove hashtag\n",
    "    strip_text = re.sub(hashtag, r'', strip_text)\n",
    "    \n",
    "    \n",
    "    try:\n",
    "        # remove all non-ascii character \n",
    "        clean = ''.join([i if ord(i) < 128 else ' ' for i in strip_text])\n",
    "        \n",
    "    except:\n",
    "        clean = strip_text\n",
    "        \n",
    "    # convert all text to lower case\n",
    "    lower_case = clean.lower()\n",
    "    \n",
    "    # remove all special characters\n",
    "    lower_case = re.sub(r'[()\\\"#/;:<>{}`+=~|!?,]', '', lower_case)\n",
    "    \n",
    "    \n",
    "    # tokenize and join together to remove unneccessary white spaces\n",
    "    words = lower_case.split()\n",
    "    \n",
    "    # remove unnecessay white spaces,\n",
    "    return (\" \".join(words)).strip()"
   ]
  },
  {
   "cell_type": "markdown",
   "metadata": {},
   "source": [
    "## Process all tweets"
   ]
  },
  {
   "cell_type": "code",
   "execution_count": 14,
   "metadata": {},
   "outputs": [],
   "source": [
    "# Make another column for processed tweet\n",
    "\n",
    "df['processed_tweet'] = df['tweet'].apply(preprosessing)"
   ]
  },
  {
   "cell_type": "code",
   "execution_count": 15,
   "metadata": {},
   "outputs": [],
   "source": [
    "df.to_csv('train_processed.csv',index=False)"
   ]
  },
  {
   "cell_type": "code",
   "execution_count": 16,
   "metadata": {},
   "outputs": [],
   "source": [
    "# Make 2 new columns\n",
    "\n",
    "df['is_Threat_user'] = 0\n",
    "df['subject'] = None"
   ]
  },
  {
   "cell_type": "markdown",
   "metadata": {},
   "source": [
    "#### 1.Email"
   ]
  },
  {
   "cell_type": "code",
   "execution_count": 17,
   "metadata": {
    "scrolled": true
   },
   "outputs": [
    {
     "name": "stdout",
     "output_type": "stream",
     "text": [
      "Total Email features extracted :  576\n"
     ]
    }
   ],
   "source": [
    "count = 0\n",
    "for row_no,tweet in enumerate(df['processed_tweet']):\n",
    "    \n",
    "    # regex for extracting email feature\n",
    "    if re.findall(\"[a-zA-Z0-9_.+-]+@[a-zA-Z0-9-]+\\.[a-zA-Z0-9-.]+\",tweet):\n",
    "        \n",
    "        #print(row_no,tweet)\n",
    "        \n",
    "        # change is_Threat_user column value to 1\n",
    "        df.loc[row_no, 'is_Threat_user'] = 1\n",
    "        \n",
    "        # change subject to email so that we can identified the feature for \"is_Threat_user\" column \n",
    "        df.loc[row_no, 'subject'] = \"Email\"\n",
    "        \n",
    "        # count the total email features\n",
    "        count += 1\n",
    "print(\"Total Email features extracted : \", count)  "
   ]
  },
  {
   "cell_type": "markdown",
   "metadata": {},
   "source": [
    "#### 2.Age / Birth date"
   ]
  },
  {
   "cell_type": "code",
   "execution_count": 18,
   "metadata": {},
   "outputs": [
    {
     "name": "stdout",
     "output_type": "stream",
     "text": [
      "Total age features extracted :  495\n"
     ]
    }
   ],
   "source": [
    "count = 0\n",
    "for row_no,tweet in enumerate(df['processed_tweet']):\n",
    "    \n",
    "    # regex for extracting age or birthdate feature\n",
    "    if (re.findall(\"(?:date of birth|my dob |b - day|my age |years old)\",tweet)):\n",
    "        \n",
    "        #print(row_no,tweet)\n",
    "        \n",
    "        # change is_Threat_user column value to 1\n",
    "        df.loc[row_no, 'is_Threat_user'] = 1\n",
    "        \n",
    "         # change subject to age so that we can identified the feature for \"is_Threat_user\" column \n",
    "        df.loc[row_no, 'subject'] = \"Age\"\n",
    "        \n",
    "        # count the total age features\n",
    "        count += 1\n",
    "        \n",
    "print(\"Total age features extracted : \", count) "
   ]
  },
  {
   "cell_type": "markdown",
   "metadata": {},
   "source": [
    "#### 3. Bank Account no "
   ]
  },
  {
   "cell_type": "code",
   "execution_count": 19,
   "metadata": {},
   "outputs": [
    {
     "name": "stdout",
     "output_type": "stream",
     "text": [
      "Total bank details features extracted :  290\n"
     ]
    }
   ],
   "source": [
    "count = 0\n",
    "for row_no,tweet in enumerate(df['processed_tweet']):\n",
    "    \n",
    "    # regex for extracting bank details feature\n",
    "    if (re.findall(\"(?:my debit card|my credit card|my account no|my account number|my bank)\",tweet)):\n",
    "        \n",
    "        # print(row_no,tweet)\n",
    "        \n",
    "        # change is_Threat_user column value to 1\n",
    "        df.loc[row_no, 'is_Threat_user'] = 1\n",
    "        \n",
    "        # change subject to Bank details so that we can identified the feature for \"is_Threat_user\" column \n",
    "        df.loc[row_no, 'subject'] = \"Bank\"\n",
    "        \n",
    "        # count the total bank details features\n",
    "        count += 1\n",
    "        \n",
    "print(\"Total bank details features extracted : \", count)  "
   ]
  },
  {
   "cell_type": "markdown",
   "metadata": {},
   "source": [
    "#### 4.phone number"
   ]
  },
  {
   "cell_type": "code",
   "execution_count": 20,
   "metadata": {
    "scrolled": true
   },
   "outputs": [
    {
     "name": "stdout",
     "output_type": "stream",
     "text": [
      "Total Phone number features extracted :  156\n"
     ]
    }
   ],
   "source": [
    "count = 0\n",
    "for row_no,tweet in enumerate(df['processed_tweet']):\n",
    "    \n",
    "    # regex for extracting phone number features\n",
    "    if (re.findall(\"[a-z. ]+ \\+?1?\\s*\\(?-*\\.*(\\d{3})\\)?\\.*-*\\s*(\\d{3})\\.*-*\\s*(\\d{4})$\",tweet)):\n",
    "        \n",
    "        #print(row_no,tweet)\n",
    "        \n",
    "        # change is_Threat_user column value to 1\n",
    "        df.loc[row_no, 'is_Threat_user'] = 1\n",
    "        \n",
    "        # change subject to Phone so that we can identified the feature for \"is_Threat_user\" column \n",
    "        df.loc[row_no, 'subject'] = \"Phone\"\n",
    "        \n",
    "        # count the total phone details features\n",
    "        count += 1\n",
    "        \n",
    "print(\"Total Phone number features extracted : \", count)  "
   ]
  },
  {
   "cell_type": "markdown",
   "metadata": {},
   "source": [
    "#### 5.Address"
   ]
  },
  {
   "cell_type": "code",
   "execution_count": 21,
   "metadata": {},
   "outputs": [
    {
     "name": "stdout",
     "output_type": "stream",
     "text": [
      "Total Address details features extracted :  911\n"
     ]
    }
   ],
   "source": [
    "count = 0\n",
    "for row_no,tweet in enumerate(df['processed_tweet']):\n",
    "    \n",
    "    # regex for extracting address details feature\n",
    "    if (re.findall(\"(?:my location|my current location|my home address|my house address|i live in)\",tweet)):\n",
    "        \n",
    "        #print(row_no,tweet)\n",
    "        \n",
    "        # change is_Threat_user column value to 1\n",
    "        df.loc[row_no, 'is_Threat_user'] = 1\n",
    "        \n",
    "        # change subject to Adress details so that we can identified the feature for \"is_Threat_user\" column \n",
    "        df.loc[row_no, 'subject'] = \"Address\"\n",
    "        \n",
    "         # count the total Address details features\n",
    "        count += 1\n",
    "        \n",
    "print(\"Total Address details features extracted : \", count) "
   ]
  },
  {
   "cell_type": "code",
   "execution_count": null,
   "metadata": {},
   "outputs": [],
   "source": []
  },
  {
   "cell_type": "code",
   "execution_count": 22,
   "metadata": {},
   "outputs": [
    {
     "name": "stdout",
     "output_type": "stream",
     "text": [
      "Shape of total vulnerable people's tweet : (2426, 5)\n"
     ]
    }
   ],
   "source": [
    "# checking shape of all vulnerable user's tweet \n",
    "\n",
    "print(\"Shape of total vulnerable people's tweet :\",df[df[\"is_Threat_user\"]==1].shape)"
   ]
  },
  {
   "cell_type": "code",
   "execution_count": 23,
   "metadata": {},
   "outputs": [
    {
     "data": {
      "text/html": [
       "<div>\n",
       "<style scoped>\n",
       "    .dataframe tbody tr th:only-of-type {\n",
       "        vertical-align: middle;\n",
       "    }\n",
       "\n",
       "    .dataframe tbody tr th {\n",
       "        vertical-align: top;\n",
       "    }\n",
       "\n",
       "    .dataframe thead th {\n",
       "        text-align: right;\n",
       "    }\n",
       "</style>\n",
       "<table border=\"1\" class=\"dataframe\">\n",
       "  <thead>\n",
       "    <tr style=\"text-align: right;\">\n",
       "      <th></th>\n",
       "      <th>name</th>\n",
       "      <th>tweet</th>\n",
       "      <th>processed_tweet</th>\n",
       "      <th>is_Threat_user</th>\n",
       "      <th>subject</th>\n",
       "    </tr>\n",
       "  </thead>\n",
       "  <tbody>\n",
       "    <tr>\n",
       "      <th>0</th>\n",
       "      <td>_TheSpecialOne_</td>\n",
       "      <td>@switchfoot http://twitpic.com/2y1zl - Awww, t...</td>\n",
       "      <td>- awww that's a bummer. you shoulda got david ...</td>\n",
       "      <td>0</td>\n",
       "      <td>None</td>\n",
       "    </tr>\n",
       "    <tr>\n",
       "      <th>1</th>\n",
       "      <td>scotthamilton</td>\n",
       "      <td>is upset that he can't update his Facebook by ...</td>\n",
       "      <td>is upset that he can't update his facebook by ...</td>\n",
       "      <td>0</td>\n",
       "      <td>None</td>\n",
       "    </tr>\n",
       "    <tr>\n",
       "      <th>2</th>\n",
       "      <td>mattycus</td>\n",
       "      <td>@Kenichan I dived many times for the ball. Man...</td>\n",
       "      <td>i dived many times for the ball. managed to sa...</td>\n",
       "      <td>0</td>\n",
       "      <td>None</td>\n",
       "    </tr>\n",
       "    <tr>\n",
       "      <th>3</th>\n",
       "      <td>ElleCTF</td>\n",
       "      <td>my whole body feels itchy and like its on fire</td>\n",
       "      <td>my whole body feels itchy and like its on fire</td>\n",
       "      <td>0</td>\n",
       "      <td>None</td>\n",
       "    </tr>\n",
       "    <tr>\n",
       "      <th>4</th>\n",
       "      <td>Karoli</td>\n",
       "      <td>@nationwideclass no, it's not behaving at all....</td>\n",
       "      <td>no it's not behaving at all. i'm mad. why am i...</td>\n",
       "      <td>0</td>\n",
       "      <td>None</td>\n",
       "    </tr>\n",
       "  </tbody>\n",
       "</table>\n",
       "</div>"
      ],
      "text/plain": [
       "              name                                              tweet  \\\n",
       "0  _TheSpecialOne_  @switchfoot http://twitpic.com/2y1zl - Awww, t...   \n",
       "1    scotthamilton  is upset that he can't update his Facebook by ...   \n",
       "2         mattycus  @Kenichan I dived many times for the ball. Man...   \n",
       "3          ElleCTF    my whole body feels itchy and like its on fire    \n",
       "4           Karoli  @nationwideclass no, it's not behaving at all....   \n",
       "\n",
       "                                     processed_tweet  is_Threat_user subject  \n",
       "0  - awww that's a bummer. you shoulda got david ...               0    None  \n",
       "1  is upset that he can't update his facebook by ...               0    None  \n",
       "2  i dived many times for the ball. managed to sa...               0    None  \n",
       "3     my whole body feels itchy and like its on fire               0    None  \n",
       "4  no it's not behaving at all. i'm mad. why am i...               0    None  "
      ]
     },
     "execution_count": 23,
     "metadata": {},
     "output_type": "execute_result"
    }
   ],
   "source": [
    "# see the dataframe\n",
    "df.head()"
   ]
  },
  {
   "cell_type": "markdown",
   "metadata": {},
   "source": [
    "### Taking Samples"
   ]
  },
  {
   "cell_type": "code",
   "execution_count": 24,
   "metadata": {},
   "outputs": [],
   "source": [
    "# Taking 2500 samples from normal people tweet\n",
    "df_0 = df[df['is_Threat_user']==0].sample(n=2500)\n",
    "\n",
    "# Taking all samples from vulnerable people tweet\n",
    "df_1 = df[df['is_Threat_user']==1].sample(n=2426)"
   ]
  },
  {
   "cell_type": "code",
   "execution_count": 25,
   "metadata": {},
   "outputs": [],
   "source": [
    "# merge the two dataframe\n",
    "frames = [df_0, df_1]\n",
    "\n",
    "# concat the dataframe to result \n",
    "result = pd.concat(frames)"
   ]
  },
  {
   "cell_type": "code",
   "execution_count": 26,
   "metadata": {},
   "outputs": [
    {
     "data": {
      "text/html": [
       "<div>\n",
       "<style scoped>\n",
       "    .dataframe tbody tr th:only-of-type {\n",
       "        vertical-align: middle;\n",
       "    }\n",
       "\n",
       "    .dataframe tbody tr th {\n",
       "        vertical-align: top;\n",
       "    }\n",
       "\n",
       "    .dataframe thead th {\n",
       "        text-align: right;\n",
       "    }\n",
       "</style>\n",
       "<table border=\"1\" class=\"dataframe\">\n",
       "  <thead>\n",
       "    <tr style=\"text-align: right;\">\n",
       "      <th></th>\n",
       "      <th>name</th>\n",
       "      <th>tweet</th>\n",
       "      <th>processed_tweet</th>\n",
       "      <th>is_Threat_user</th>\n",
       "      <th>subject</th>\n",
       "    </tr>\n",
       "  </thead>\n",
       "  <tbody>\n",
       "    <tr>\n",
       "      <th>1587589</th>\n",
       "      <td>Your_Cup_Cake</td>\n",
       "      <td>yes it is</td>\n",
       "      <td>yes it is</td>\n",
       "      <td>0</td>\n",
       "      <td>None</td>\n",
       "    </tr>\n",
       "    <tr>\n",
       "      <th>1470993</th>\n",
       "      <td>magicoilyoctopi</td>\n",
       "      <td>@gottalooksharp IT IS!</td>\n",
       "      <td>it is</td>\n",
       "      <td>0</td>\n",
       "      <td>None</td>\n",
       "    </tr>\n",
       "    <tr>\n",
       "      <th>642110</th>\n",
       "      <td>shaypee</td>\n",
       "      <td>Shoot, here I thought we were gonna have a lon...</td>\n",
       "      <td>shoot here i thought we were gonna have a long...</td>\n",
       "      <td>0</td>\n",
       "      <td>None</td>\n",
       "    </tr>\n",
       "    <tr>\n",
       "      <th>589728</th>\n",
       "      <td>CHWong</td>\n",
       "      <td>@KateEdwards Why are you green... it's scaring...</td>\n",
       "      <td>why are you green... it's scaring me.</td>\n",
       "      <td>0</td>\n",
       "      <td>None</td>\n",
       "    </tr>\n",
       "    <tr>\n",
       "      <th>1471868</th>\n",
       "      <td>dancesjt</td>\n",
       "      <td>Is looking for a job. I hope i get one soon co...</td>\n",
       "      <td>is looking for a job. i hope i get one soon co...</td>\n",
       "      <td>0</td>\n",
       "      <td>None</td>\n",
       "    </tr>\n",
       "  </tbody>\n",
       "</table>\n",
       "</div>"
      ],
      "text/plain": [
       "                    name                                              tweet  \\\n",
       "1587589    Your_Cup_Cake                                         yes it is    \n",
       "1470993  magicoilyoctopi                            @gottalooksharp IT IS!    \n",
       "642110           shaypee  Shoot, here I thought we were gonna have a lon...   \n",
       "589728            CHWong  @KateEdwards Why are you green... it's scaring...   \n",
       "1471868         dancesjt  Is looking for a job. I hope i get one soon co...   \n",
       "\n",
       "                                           processed_tweet  is_Threat_user  \\\n",
       "1587589                                          yes it is               0   \n",
       "1470993                                              it is               0   \n",
       "642110   shoot here i thought we were gonna have a long...               0   \n",
       "589728               why are you green... it's scaring me.               0   \n",
       "1471868  is looking for a job. i hope i get one soon co...               0   \n",
       "\n",
       "        subject  \n",
       "1587589    None  \n",
       "1470993    None  \n",
       "642110     None  \n",
       "589728     None  \n",
       "1471868    None  "
      ]
     },
     "execution_count": 26,
     "metadata": {},
     "output_type": "execute_result"
    }
   ],
   "source": [
    "result.head()"
   ]
  },
  {
   "cell_type": "code",
   "execution_count": 27,
   "metadata": {},
   "outputs": [],
   "source": [
    "# randomly suffle all data by taking all sample at random\n",
    "result = result.sample(frac=1)"
   ]
  },
  {
   "cell_type": "code",
   "execution_count": 28,
   "metadata": {},
   "outputs": [],
   "source": [
    "from sklearn.model_selection import train_test_split\n",
    "\n",
    "# split the datset into two set, training set and 8 percentage testing set\n",
    "train_df, test_df = train_test_split(result, test_size=0.08)"
   ]
  },
  {
   "cell_type": "code",
   "execution_count": 29,
   "metadata": {},
   "outputs": [
    {
     "name": "stdout",
     "output_type": "stream",
     "text": [
      "Shape of training phase data :  (4531, 5)\n",
      "Shape of testing phase data :  (395, 5)\n"
     ]
    }
   ],
   "source": [
    "print(\"Shape of training phase data : \",train_df.shape)\n",
    "print(\"Shape of testing phase data : \",test_df.shape)"
   ]
  },
  {
   "cell_type": "code",
   "execution_count": 30,
   "metadata": {},
   "outputs": [
    {
     "data": {
      "text/html": [
       "<div>\n",
       "<style scoped>\n",
       "    .dataframe tbody tr th:only-of-type {\n",
       "        vertical-align: middle;\n",
       "    }\n",
       "\n",
       "    .dataframe tbody tr th {\n",
       "        vertical-align: top;\n",
       "    }\n",
       "\n",
       "    .dataframe thead th {\n",
       "        text-align: right;\n",
       "    }\n",
       "</style>\n",
       "<table border=\"1\" class=\"dataframe\">\n",
       "  <thead>\n",
       "    <tr style=\"text-align: right;\">\n",
       "      <th></th>\n",
       "      <th>name</th>\n",
       "      <th>tweet</th>\n",
       "      <th>processed_tweet</th>\n",
       "      <th>is_Threat_user</th>\n",
       "      <th>subject</th>\n",
       "    </tr>\n",
       "  </thead>\n",
       "  <tbody>\n",
       "    <tr>\n",
       "      <th>1116993</th>\n",
       "      <td>meganlikeshats</td>\n",
       "      <td>:: in the car on the way home. text! 6156183900</td>\n",
       "      <td>in the car on the way home. text 6156183900</td>\n",
       "      <td>1</td>\n",
       "      <td>Phone</td>\n",
       "    </tr>\n",
       "    <tr>\n",
       "      <th>1082863</th>\n",
       "      <td>RayOnativia</td>\n",
       "      <td>@shelliwazzu thanks. I try!</td>\n",
       "      <td>thanks. i try</td>\n",
       "      <td>0</td>\n",
       "      <td>None</td>\n",
       "    </tr>\n",
       "    <tr>\n",
       "      <th>72030</th>\n",
       "      <td>tomrowan</td>\n",
       "      <td>Heading off to Londonderry - on my Bank Holida...</td>\n",
       "      <td>heading off to londonderry - on my bank holida...</td>\n",
       "      <td>1</td>\n",
       "      <td>Bank</td>\n",
       "    </tr>\n",
       "    <tr>\n",
       "      <th>1039221</th>\n",
       "      <td>andyrobb</td>\n",
       "      <td>Tesla Model S in the Palo Alto showroom - sweet</td>\n",
       "      <td>tesla model s in the palo alto showroom - sweet</td>\n",
       "      <td>0</td>\n",
       "      <td>None</td>\n",
       "    </tr>\n",
       "    <tr>\n",
       "      <th>1295146</th>\n",
       "      <td>mintypop</td>\n",
       "      <td>just came back watching &amp;quot;17 again&amp;quot;, ...</td>\n",
       "      <td>just came back watching 17 again it was pretty...</td>\n",
       "      <td>0</td>\n",
       "      <td>None</td>\n",
       "    </tr>\n",
       "  </tbody>\n",
       "</table>\n",
       "</div>"
      ],
      "text/plain": [
       "                   name                                              tweet  \\\n",
       "1116993  meganlikeshats   :: in the car on the way home. text! 6156183900    \n",
       "1082863     RayOnativia                       @shelliwazzu thanks. I try!    \n",
       "72030          tomrowan  Heading off to Londonderry - on my Bank Holida...   \n",
       "1039221        andyrobb   Tesla Model S in the Palo Alto showroom - sweet    \n",
       "1295146        mintypop  just came back watching &quot;17 again&quot;, ...   \n",
       "\n",
       "                                           processed_tweet  is_Threat_user  \\\n",
       "1116993        in the car on the way home. text 6156183900               1   \n",
       "1082863                                      thanks. i try               0   \n",
       "72030    heading off to londonderry - on my bank holida...               1   \n",
       "1039221    tesla model s in the palo alto showroom - sweet               0   \n",
       "1295146  just came back watching 17 again it was pretty...               0   \n",
       "\n",
       "        subject  \n",
       "1116993   Phone  \n",
       "1082863    None  \n",
       "72030      Bank  \n",
       "1039221    None  \n",
       "1295146    None  "
      ]
     },
     "execution_count": 30,
     "metadata": {},
     "output_type": "execute_result"
    }
   ],
   "source": [
    "train_df.head()"
   ]
  },
  {
   "cell_type": "code",
   "execution_count": 31,
   "metadata": {},
   "outputs": [],
   "source": [
    "# Changing dataframe index to user name\n",
    "test_df.index = test_df.name"
   ]
  },
  {
   "cell_type": "code",
   "execution_count": 32,
   "metadata": {},
   "outputs": [
    {
     "data": {
      "text/html": [
       "<div>\n",
       "<style scoped>\n",
       "    .dataframe tbody tr th:only-of-type {\n",
       "        vertical-align: middle;\n",
       "    }\n",
       "\n",
       "    .dataframe tbody tr th {\n",
       "        vertical-align: top;\n",
       "    }\n",
       "\n",
       "    .dataframe thead th {\n",
       "        text-align: right;\n",
       "    }\n",
       "</style>\n",
       "<table border=\"1\" class=\"dataframe\">\n",
       "  <thead>\n",
       "    <tr style=\"text-align: right;\">\n",
       "      <th></th>\n",
       "      <th>name</th>\n",
       "      <th>tweet</th>\n",
       "      <th>processed_tweet</th>\n",
       "      <th>is_Threat_user</th>\n",
       "      <th>subject</th>\n",
       "    </tr>\n",
       "    <tr>\n",
       "      <th>name</th>\n",
       "      <th></th>\n",
       "      <th></th>\n",
       "      <th></th>\n",
       "      <th></th>\n",
       "      <th></th>\n",
       "    </tr>\n",
       "  </thead>\n",
       "  <tbody>\n",
       "    <tr>\n",
       "      <th>oldskool90</th>\n",
       "      <td>oldskool90</td>\n",
       "      <td>DAMMIT. DAMMIT. DAMMIT. *Bangs head on desk*</td>\n",
       "      <td>dammit. dammit. dammit. *bangs head on desk*</td>\n",
       "      <td>0</td>\n",
       "      <td>None</td>\n",
       "    </tr>\n",
       "    <tr>\n",
       "      <th>HayleyNqahuia</th>\n",
       "      <td>HayleyNqahuia</td>\n",
       "      <td>@jane__ irl just ended lo. but it was good</td>\n",
       "      <td>irl just ended lo. but it was good</td>\n",
       "      <td>0</td>\n",
       "      <td>None</td>\n",
       "    </tr>\n",
       "    <tr>\n",
       "      <th>truecarvalue</th>\n",
       "      <td>truecarvalue</td>\n",
       "      <td>Good night for now. Keep sending your requests...</td>\n",
       "      <td>good night for now. keep sending your requests...</td>\n",
       "      <td>1</td>\n",
       "      <td>Email</td>\n",
       "    </tr>\n",
       "    <tr>\n",
       "      <th>fitprosarah</th>\n",
       "      <td>fitprosarah</td>\n",
       "      <td>@kravmascara Thanks, Sarah! When's your's?  @s...</td>\n",
       "      <td>thanks sarah when's your's has a bday this mon...</td>\n",
       "      <td>0</td>\n",
       "      <td>None</td>\n",
       "    </tr>\n",
       "    <tr>\n",
       "      <th>FRECKLEFACEVICK</th>\n",
       "      <td>FRECKLEFACEVICK</td>\n",
       "      <td>@thecampingforum good morning</td>\n",
       "      <td>good morning</td>\n",
       "      <td>0</td>\n",
       "      <td>None</td>\n",
       "    </tr>\n",
       "  </tbody>\n",
       "</table>\n",
       "</div>"
      ],
      "text/plain": [
       "                            name  \\\n",
       "name                               \n",
       "oldskool90            oldskool90   \n",
       "HayleyNqahuia      HayleyNqahuia   \n",
       "truecarvalue        truecarvalue   \n",
       "fitprosarah          fitprosarah   \n",
       "FRECKLEFACEVICK  FRECKLEFACEVICK   \n",
       "\n",
       "                                                             tweet  \\\n",
       "name                                                                 \n",
       "oldskool90           DAMMIT. DAMMIT. DAMMIT. *Bangs head on desk*    \n",
       "HayleyNqahuia          @jane__ irl just ended lo. but it was good    \n",
       "truecarvalue     Good night for now. Keep sending your requests...   \n",
       "fitprosarah      @kravmascara Thanks, Sarah! When's your's?  @s...   \n",
       "FRECKLEFACEVICK                     @thecampingforum good morning    \n",
       "\n",
       "                                                   processed_tweet  \\\n",
       "name                                                                 \n",
       "oldskool90            dammit. dammit. dammit. *bangs head on desk*   \n",
       "HayleyNqahuia                   irl just ended lo. but it was good   \n",
       "truecarvalue     good night for now. keep sending your requests...   \n",
       "fitprosarah      thanks sarah when's your's has a bday this mon...   \n",
       "FRECKLEFACEVICK                                       good morning   \n",
       "\n",
       "                 is_Threat_user subject  \n",
       "name                                     \n",
       "oldskool90                    0    None  \n",
       "HayleyNqahuia                 0    None  \n",
       "truecarvalue                  1   Email  \n",
       "fitprosarah                   0    None  \n",
       "FRECKLEFACEVICK               0    None  "
      ]
     },
     "execution_count": 32,
     "metadata": {},
     "output_type": "execute_result"
    }
   ],
   "source": [
    "test_df.head()"
   ]
  },
  {
   "cell_type": "code",
   "execution_count": null,
   "metadata": {},
   "outputs": [],
   "source": []
  },
  {
   "cell_type": "markdown",
   "metadata": {},
   "source": [
    "# Modeling"
   ]
  },
  {
   "cell_type": "code",
   "execution_count": 33,
   "metadata": {},
   "outputs": [],
   "source": [
    "from sklearn.model_selection import train_test_split\n",
    "\n",
    "# Again split the training set to training set (80%) and validation set (20%)\n",
    "\n",
    "# X_train ->  features of training set\n",
    "# y_train ->  label of training set\n",
    "\n",
    "# X_test ->  features of validation set\n",
    "# y_test ->  label of validation set\n",
    "\n",
    "X_train, X_test, y_train, y_test = train_test_split(train_df['processed_tweet'], train_df['is_Threat_user'], test_size=0.20, random_state=42)"
   ]
  },
  {
   "cell_type": "code",
   "execution_count": 34,
   "metadata": {},
   "outputs": [
    {
     "name": "stdout",
     "output_type": "stream",
     "text": [
      "Training set shape :  (3624,)\n",
      "Validation set shape :  (907,)\n"
     ]
    }
   ],
   "source": [
    "print(\"Training set shape : \",X_train.shape)\n",
    "print(\"Validation set shape : \",X_test.shape)"
   ]
  },
  {
   "cell_type": "code",
   "execution_count": 35,
   "metadata": {},
   "outputs": [],
   "source": [
    "from sklearn.feature_extraction.text import CountVectorizer\n",
    "\n",
    "# start the instance of CountVectrizer which convert word to vector\n",
    "count_vect = CountVectorizer()"
   ]
  },
  {
   "cell_type": "code",
   "execution_count": 36,
   "metadata": {},
   "outputs": [
    {
     "name": "stdout",
     "output_type": "stream",
     "text": [
      "Shape of input features in training data :  (3624, 7807)\n"
     ]
    }
   ],
   "source": [
    "# converting all words in training dataset to vector form\n",
    "\n",
    "X_train_counts = count_vect.fit_transform(X_train)\n",
    "\n",
    "print(\"Shape of input features in training data : \",X_train_counts.shape)"
   ]
  },
  {
   "cell_type": "code",
   "execution_count": 37,
   "metadata": {},
   "outputs": [
    {
     "name": "stdout",
     "output_type": "stream",
     "text": [
      "Shape of input feature matrix in training data :  (3624, 7807)\n"
     ]
    }
   ],
   "source": [
    "from sklearn.feature_extraction.text import TfidfTransformer\n",
    "\n",
    "# start the instance of TfidfTransformer which get word occurance frequency in each documents\n",
    "tfidf_transformer = TfidfTransformer()\n",
    "\n",
    "# Transform all the documents to Inverse Document Frequency matrix representation  \n",
    "X_train_tfidf = tfidf_transformer.fit_transform(X_train_counts)\n",
    "\n",
    "print(\"Shape of input feature matrix in training data : \",X_train_tfidf.shape)\n"
   ]
  },
  {
   "cell_type": "markdown",
   "metadata": {},
   "source": [
    "### Building the SVM model"
   ]
  },
  {
   "cell_type": "markdown",
   "metadata": {},
   "source": [
    "### Apply the model"
   ]
  },
  {
   "cell_type": "code",
   "execution_count": 38,
   "metadata": {},
   "outputs": [],
   "source": [
    "# Building the pipeline\n",
    "from sklearn.pipeline import Pipeline\n",
    "\n",
    "# import the classifier\n",
    "from sklearn.linear_model import SGDClassifier\n",
    "\n",
    "# make the svm classifier with pipeline\n",
    "# make (1,2) n-gram word vectorizer\n",
    "# make tfidf transformer to false\n",
    "# alpha = learning rate\n",
    "\n",
    "\n",
    "svm_clf = Pipeline([('vect', CountVectorizer( ngram_range=(1, 2))),\n",
    "                      ('tfidf', TfidfTransformer( use_idf=False)),\n",
    "                      ('clf-svm', SGDClassifier(loss='hinge', penalty='l2',\n",
    "                                            alpha=1e-4, max_iter=10, random_state=42))])"
   ]
  },
  {
   "cell_type": "code",
   "execution_count": 39,
   "metadata": {},
   "outputs": [
    {
     "name": "stdout",
     "output_type": "stream",
     "text": [
      "Accuracy on svm classifier :  0.958103638368\n"
     ]
    }
   ],
   "source": [
    "# Fit the data in classifier\n",
    "_ = svm_clf.fit(X_train, y_train)\n",
    "\n",
    "# predict the validation set\n",
    "predicted_svm = svm_clf.predict(X_test)\n",
    "\n",
    "# print accuracy\n",
    "print(\"Accuracy on svm classifier : \",np.mean(predicted_svm == y_test))"
   ]
  },
  {
   "cell_type": "markdown",
   "metadata": {},
   "source": [
    "#### Finding optimum Parameters using gridsearch method"
   ]
  },
  {
   "cell_type": "code",
   "execution_count": 40,
   "metadata": {},
   "outputs": [],
   "source": [
    "from sklearn.model_selection import GridSearchCV\n",
    "\n",
    "# Range of parameters to given fo the classifier\n",
    "parameters_svm = {'vect__ngram_range': [(1, 1), (1, 2)],'tfidf__use_idf': (True, False),'clf-svm__alpha': (1e-2, 1e-3)}\n",
    "\n",
    "# define the model\n",
    "grid_svm = GridSearchCV(svm_clf, parameters_svm, n_jobs=-1)"
   ]
  },
  {
   "cell_type": "code",
   "execution_count": 41,
   "metadata": {},
   "outputs": [
    {
     "name": "stdout",
     "output_type": "stream",
     "text": [
      "Accuracy : \n",
      "0.951710816777\n",
      "Optimum Parameters :\n",
      "{'clf-svm__alpha': 0.001, 'tfidf__use_idf': False, 'vect__ngram_range': (1, 2)}\n"
     ]
    }
   ],
   "source": [
    "# fit the model\n",
    "_ = grid_svm.fit(X_train, y_train)\n",
    "\n",
    "print(\"Accuracy : \")\n",
    "print(grid_svm.best_score_)\n",
    "\n",
    "print(\"Optimum Parameters :\")\n",
    "print(grid_svm.best_params_)"
   ]
  },
  {
   "cell_type": "markdown",
   "metadata": {},
   "source": [
    "## Confusion Matrix"
   ]
  },
  {
   "cell_type": "code",
   "execution_count": 42,
   "metadata": {},
   "outputs": [
    {
     "name": "stdout",
     "output_type": "stream",
     "text": [
      "Confusion matrix, without normalization\n",
      "[[428  11]\n",
      " [ 27 441]]\n",
      "Normalized confusion matrix\n",
      "[[ 0.97  0.03]\n",
      " [ 0.06  0.94]]\n"
     ]
    },
    {
     "data": {
      "image/png": "[encoded data removed]",
      "text/plain": [
       "<Figure size 432x288 with 2 Axes>"
      ]
     },
     "metadata": {},
     "output_type": "display_data"
    },
    {
     "data": {
      "image/png": "[encoded data removed]",
      "text/plain": [
       "<Figure size 432x288 with 2 Axes>"
      ]
     },
     "metadata": {},
     "output_type": "display_data"
    }
   ],
   "source": [
    "from sklearn.metrics import confusion_matrix\n",
    "\n",
    "import itertools\n",
    "\n",
    "\n",
    "def plot_confusion_matrix(cm, classes,\n",
    "                          normalize=False,\n",
    "                          title='Confusion matrix',\n",
    "                          cmap=plt.cm.Blues):\n",
    "    \"\"\"\n",
    "    This function prints and plots the confusion matrix.\n",
    "    Normalization can be applied by setting `normalize=True`.\n",
    "    \"\"\"\n",
    "    if normalize:\n",
    "        cm = cm.astype('float') / cm.sum(axis=1)[:, np.newaxis]\n",
    "        print(\"Normalized confusion matrix\")\n",
    "    else:\n",
    "        print('Confusion matrix, without normalization')\n",
    "\n",
    "    print(cm)\n",
    "\n",
    "    plt.imshow(cm, interpolation='nearest', cmap=cmap)\n",
    "    plt.title(title)\n",
    "    plt.colorbar()\n",
    "    tick_marks = np.arange(len(classes))\n",
    "    plt.xticks(tick_marks, classes, rotation=45)\n",
    "    plt.yticks(tick_marks, classes)\n",
    "\n",
    "    fmt = '.2f' if normalize else 'd'\n",
    "    thresh = cm.max() / 2.\n",
    "    for i, j in itertools.product(range(cm.shape[0]), range(cm.shape[1])):\n",
    "        plt.text(j, i, format(cm[i, j], fmt),\n",
    "                 horizontalalignment=\"center\",\n",
    "                 color=\"white\" if cm[i, j] > thresh else \"black\")\n",
    "\n",
    "    plt.tight_layout()\n",
    "    plt.ylabel('True label')\n",
    "    plt.xlabel('Predicted label')\n",
    "\n",
    "# Compute confusion matrix\n",
    "cnf_matrix = confusion_matrix(y_test, predicted_svm)\n",
    "np.set_printoptions(precision=2)\n",
    "\n",
    "# Plot non-normalized confusion matrix\n",
    "class_names = [\"Not in Risk\",\"In Risk\"]\n",
    "plt.figure()\n",
    "plot_confusion_matrix(cnf_matrix, classes=class_names,\n",
    "                      title='Confusion matrix, without normalization')\n",
    "\n",
    "# Plot normalized confusion matrix\n",
    "plt.figure()\n",
    "plot_confusion_matrix(cnf_matrix, classes=class_names, normalize=True,\n",
    "                      title='Normalized confusion matrix')\n",
    "\n",
    "plt.show()"
   ]
  },
  {
   "cell_type": "markdown",
   "metadata": {},
   "source": [
    "# Evaluation on test data"
   ]
  },
  {
   "cell_type": "code",
   "execution_count": 43,
   "metadata": {},
   "outputs": [
    {
     "name": "stdout",
     "output_type": "stream",
     "text": [
      "Total test data : 395\n"
     ]
    }
   ],
   "source": [
    "test_tweet = test_df.processed_tweet.tolist()\n",
    "print(\"Total test data :\",len(test_tweet))"
   ]
  },
  {
   "cell_type": "code",
   "execution_count": 44,
   "metadata": {
    "scrolled": true
   },
   "outputs": [
    {
     "data": {
      "text/html": [
       "<div>\n",
       "<style scoped>\n",
       "    .dataframe tbody tr th:only-of-type {\n",
       "        vertical-align: middle;\n",
       "    }\n",
       "\n",
       "    .dataframe tbody tr th {\n",
       "        vertical-align: top;\n",
       "    }\n",
       "\n",
       "    .dataframe thead th {\n",
       "        text-align: right;\n",
       "    }\n",
       "</style>\n",
       "<table border=\"1\" class=\"dataframe\">\n",
       "  <thead>\n",
       "    <tr style=\"text-align: right;\">\n",
       "      <th></th>\n",
       "      <th>name</th>\n",
       "      <th>tweet</th>\n",
       "      <th>processed_tweet</th>\n",
       "      <th>is_Threat_user</th>\n",
       "      <th>subject</th>\n",
       "    </tr>\n",
       "    <tr>\n",
       "      <th>name</th>\n",
       "      <th></th>\n",
       "      <th></th>\n",
       "      <th></th>\n",
       "      <th></th>\n",
       "      <th></th>\n",
       "    </tr>\n",
       "  </thead>\n",
       "  <tbody>\n",
       "    <tr>\n",
       "      <th>oldskool90</th>\n",
       "      <td>oldskool90</td>\n",
       "      <td>DAMMIT. DAMMIT. DAMMIT. *Bangs head on desk*</td>\n",
       "      <td>dammit. dammit. dammit. *bangs head on desk*</td>\n",
       "      <td>0</td>\n",
       "      <td>None</td>\n",
       "    </tr>\n",
       "    <tr>\n",
       "      <th>HayleyNqahuia</th>\n",
       "      <td>HayleyNqahuia</td>\n",
       "      <td>@jane__ irl just ended lo. but it was good</td>\n",
       "      <td>irl just ended lo. but it was good</td>\n",
       "      <td>0</td>\n",
       "      <td>None</td>\n",
       "    </tr>\n",
       "    <tr>\n",
       "      <th>truecarvalue</th>\n",
       "      <td>truecarvalue</td>\n",
       "      <td>Good night for now. Keep sending your requests...</td>\n",
       "      <td>good night for now. keep sending your requests...</td>\n",
       "      <td>1</td>\n",
       "      <td>Email</td>\n",
       "    </tr>\n",
       "    <tr>\n",
       "      <th>fitprosarah</th>\n",
       "      <td>fitprosarah</td>\n",
       "      <td>@kravmascara Thanks, Sarah! When's your's?  @s...</td>\n",
       "      <td>thanks sarah when's your's has a bday this mon...</td>\n",
       "      <td>0</td>\n",
       "      <td>None</td>\n",
       "    </tr>\n",
       "    <tr>\n",
       "      <th>FRECKLEFACEVICK</th>\n",
       "      <td>FRECKLEFACEVICK</td>\n",
       "      <td>@thecampingforum good morning</td>\n",
       "      <td>good morning</td>\n",
       "      <td>0</td>\n",
       "      <td>None</td>\n",
       "    </tr>\n",
       "    <tr>\n",
       "      <th>starrynite01</th>\n",
       "      <td>starrynite01</td>\n",
       "      <td>@JennyFOD Yay that makes me so happy! Have fun...</td>\n",
       "      <td>yay that makes me so happy have fun say hi to ...</td>\n",
       "      <td>0</td>\n",
       "      <td>None</td>\n",
       "    </tr>\n",
       "    <tr>\n",
       "      <th>dogzero</th>\n",
       "      <td>dogzero</td>\n",
       "      <td>@_ohsobangin Hi Amethyst, @Banksyart is now at...</td>\n",
       "      <td>@_ohsobangin hi amethyst is now at - he's been...</td>\n",
       "      <td>0</td>\n",
       "      <td>None</td>\n",
       "    </tr>\n",
       "    <tr>\n",
       "      <th>TiffKittie</th>\n",
       "      <td>TiffKittie</td>\n",
       "      <td>Back from my Columbia River Gorge trip with St...</td>\n",
       "      <td>back from my columbia river gorge trip with st...</td>\n",
       "      <td>0</td>\n",
       "      <td>None</td>\n",
       "    </tr>\n",
       "    <tr>\n",
       "      <th>priscx</th>\n",
       "      <td>priscx</td>\n",
       "      <td>@chermayneugenia wow he let u cut his hair. he...</td>\n",
       "      <td>wow he let u cut his hair. hehe...that's nice ...</td>\n",
       "      <td>0</td>\n",
       "      <td>None</td>\n",
       "    </tr>\n",
       "    <tr>\n",
       "      <th>caitlinclapton</th>\n",
       "      <td>caitlinclapton</td>\n",
       "      <td>what the fuck stop raining i want to sleep ton...</td>\n",
       "      <td>what the fuck stop raining i want to sleep ton...</td>\n",
       "      <td>0</td>\n",
       "      <td>None</td>\n",
       "    </tr>\n",
       "    <tr>\n",
       "      <th>FunkyCyco</th>\n",
       "      <td>FunkyCyco</td>\n",
       "      <td>@gcrush I'm really digging what I'm reading ab...</td>\n",
       "      <td>i'm really digging what i'm reading about it m...</td>\n",
       "      <td>1</td>\n",
       "      <td>Bank</td>\n",
       "    </tr>\n",
       "    <tr>\n",
       "      <th>OhBriBri</th>\n",
       "      <td>OhBriBri</td>\n",
       "      <td>&amp;quot;Beautiful One's&amp;quot; by Prince of cours...</td>\n",
       "      <td>beautiful one's by prince of course....no can ...</td>\n",
       "      <td>0</td>\n",
       "      <td>None</td>\n",
       "    </tr>\n",
       "    <tr>\n",
       "      <th>ffidler</th>\n",
       "      <td>ffidler</td>\n",
       "      <td>@YeahThatsKosher thanks for the invite but I d...</td>\n",
       "      <td>thanks for the invite but i don't think i can ...</td>\n",
       "      <td>0</td>\n",
       "      <td>None</td>\n",
       "    </tr>\n",
       "    <tr>\n",
       "      <th>FaithLove1986</th>\n",
       "      <td>FaithLove1986</td>\n",
       "      <td>Enjoying the new lap top   About to do this da...</td>\n",
       "      <td>enjoying the new lap top about to do this danc...</td>\n",
       "      <td>0</td>\n",
       "      <td>None</td>\n",
       "    </tr>\n",
       "    <tr>\n",
       "      <th>laurengrifoni</th>\n",
       "      <td>laurengrifoni</td>\n",
       "      <td>@peterfacinelli perhaps i'm showing my age her...</td>\n",
       "      <td>perhaps i'm showing my age here but you'll alw...</td>\n",
       "      <td>1</td>\n",
       "      <td>Age</td>\n",
       "    </tr>\n",
       "    <tr>\n",
       "      <th>jaclynsantos</th>\n",
       "      <td>jaclynsantos</td>\n",
       "      <td>The bay bridge run was sooooo much fun! Had te...</td>\n",
       "      <td>the bay bridge run was sooooo much fun had tec...</td>\n",
       "      <td>0</td>\n",
       "      <td>None</td>\n",
       "    </tr>\n",
       "    <tr>\n",
       "      <th>StephG22</th>\n",
       "      <td>StephG22</td>\n",
       "      <td>@LaurenConrad I live in Wales, U.K and I'm dyy...</td>\n",
       "      <td>i live in wales u.k and i'm dyyyyyying to get ...</td>\n",
       "      <td>1</td>\n",
       "      <td>Address</td>\n",
       "    </tr>\n",
       "    <tr>\n",
       "      <th>brianchong</th>\n",
       "      <td>brianchong</td>\n",
       "      <td>every day in every way i am getting better and...</td>\n",
       "      <td>every day in every way i am getting better and...</td>\n",
       "      <td>0</td>\n",
       "      <td>None</td>\n",
       "    </tr>\n",
       "    <tr>\n",
       "      <th>jbloomfield</th>\n",
       "      <td>jbloomfield</td>\n",
       "      <td>@thsutton I have a very good Macbook Pro  Only...</td>\n",
       "      <td>i have a very good macbook pro only 3 years ol...</td>\n",
       "      <td>1</td>\n",
       "      <td>Age</td>\n",
       "    </tr>\n",
       "    <tr>\n",
       "      <th>loborohan</th>\n",
       "      <td>loborohan</td>\n",
       "      <td>@MagaliLobo @MagaliLobo i have to go to sleep ...</td>\n",
       "      <td>i have to go to sleep too have a nice evening ...</td>\n",
       "      <td>1</td>\n",
       "      <td>Email</td>\n",
       "    </tr>\n",
       "    <tr>\n",
       "      <th>stevenschlom</th>\n",
       "      <td>stevenschlom</td>\n",
       "      <td>@iamdiddy Creative, the (you must be 21 years ...</td>\n",
       "      <td>creative the you must be 21 years old to watch...</td>\n",
       "      <td>1</td>\n",
       "      <td>Age</td>\n",
       "    </tr>\n",
       "    <tr>\n",
       "      <th>iSuthernBelle</th>\n",
       "      <td>iSuthernBelle</td>\n",
       "      <td>sup yall i need sum friends...so sad on this l...</td>\n",
       "      <td>sup yall i need sum friends...so sad on this l...</td>\n",
       "      <td>1</td>\n",
       "      <td>Email</td>\n",
       "    </tr>\n",
       "    <tr>\n",
       "      <th>Mysticviolet1</th>\n",
       "      <td>Mysticviolet1</td>\n",
       "      <td>STILL reconcilling bloody key deposits,craving...</td>\n",
       "      <td>still reconcilling bloody key depositscraving ...</td>\n",
       "      <td>0</td>\n",
       "      <td>None</td>\n",
       "    </tr>\n",
       "    <tr>\n",
       "      <th>ReinaMerrick</th>\n",
       "      <td>ReinaMerrick</td>\n",
       "      <td>The more I think about how terrible this trip ...</td>\n",
       "      <td>the more i think about how terrible this trip ...</td>\n",
       "      <td>1</td>\n",
       "      <td>Age</td>\n",
       "    </tr>\n",
       "    <tr>\n",
       "      <th>nikki_lfc</th>\n",
       "      <td>nikki_lfc</td>\n",
       "      <td>And shed just suffered 2 hours of dance :/ urg...</td>\n",
       "      <td>and shed just suffered 2 hours of dance urgh. ...</td>\n",
       "      <td>0</td>\n",
       "      <td>None</td>\n",
       "    </tr>\n",
       "    <tr>\n",
       "      <th>amandaboo89</th>\n",
       "      <td>amandaboo89</td>\n",
       "      <td>I am bored at home while the boyfriend is slee...</td>\n",
       "      <td>i am bored at home while the boyfriend is slee...</td>\n",
       "      <td>0</td>\n",
       "      <td>None</td>\n",
       "    </tr>\n",
       "    <tr>\n",
       "      <th>AmazinglyCaity</th>\n",
       "      <td>AmazinglyCaity</td>\n",
       "      <td>@juleex3 it flows</td>\n",
       "      <td>it flows</td>\n",
       "      <td>0</td>\n",
       "      <td>None</td>\n",
       "    </tr>\n",
       "    <tr>\n",
       "      <th>JoeyPepperoni</th>\n",
       "      <td>JoeyPepperoni</td>\n",
       "      <td>Just made a new account...  I don't want to go...</td>\n",
       "      <td>just made a new account... i don't want to go ...</td>\n",
       "      <td>0</td>\n",
       "      <td>None</td>\n",
       "    </tr>\n",
       "    <tr>\n",
       "      <th>obnoxiousacorns</th>\n",
       "      <td>obnoxiousacorns</td>\n",
       "      <td>I'm going to bed. Still tired from last night'...</td>\n",
       "      <td>i'm going to bed. still tired from last night'...</td>\n",
       "      <td>1</td>\n",
       "      <td>Email</td>\n",
       "    </tr>\n",
       "    <tr>\n",
       "      <th>Hazedandconfuse</th>\n",
       "      <td>Hazedandconfuse</td>\n",
       "      <td>@CheerldrMelissa Just be glad it wasnt the Und...</td>\n",
       "      <td>just be glad it wasnt the underpants gnomes......</td>\n",
       "      <td>0</td>\n",
       "      <td>None</td>\n",
       "    </tr>\n",
       "    <tr>\n",
       "      <th>...</th>\n",
       "      <td>...</td>\n",
       "      <td>...</td>\n",
       "      <td>...</td>\n",
       "      <td>...</td>\n",
       "      <td>...</td>\n",
       "    </tr>\n",
       "    <tr>\n",
       "      <th>BSL1229</th>\n",
       "      <td>BSL1229</td>\n",
       "      <td>@moonfrye THAT WOULD BE MY SON! WITHOUT A DOUB...</td>\n",
       "      <td>that would be my son without a doubt he's 12 y...</td>\n",
       "      <td>1</td>\n",
       "      <td>Age</td>\n",
       "    </tr>\n",
       "    <tr>\n",
       "      <th>Twilight_Babble</th>\n",
       "      <td>Twilight_Babble</td>\n",
       "      <td>@robpttzlover101 yes he sure does have some cr...</td>\n",
       "      <td>yes he sure does have some crazy fans. i know ...</td>\n",
       "      <td>1</td>\n",
       "      <td>Address</td>\n",
       "    </tr>\n",
       "    <tr>\n",
       "      <th>NKrunner</th>\n",
       "      <td>NKrunner</td>\n",
       "      <td>@DonnieWahlberg packing for my flt to miami in...</td>\n",
       "      <td>packing for my flt to miami in 3 hrs for the c...</td>\n",
       "      <td>0</td>\n",
       "      <td>None</td>\n",
       "    </tr>\n",
       "    <tr>\n",
       "      <th>margargargaret</th>\n",
       "      <td>margargargaret</td>\n",
       "      <td>@2moor i heard! everyone keeps telling me  als...</td>\n",
       "      <td>@2moor i heard everyone keeps telling me also ...</td>\n",
       "      <td>1</td>\n",
       "      <td>Age</td>\n",
       "    </tr>\n",
       "    <tr>\n",
       "      <th>DLDAVID</th>\n",
       "      <td>DLDAVID</td>\n",
       "      <td>@eriktreble  i love u just for saying that  we...</td>\n",
       "      <td>i love u just for saying that we have the supe...</td>\n",
       "      <td>0</td>\n",
       "      <td>None</td>\n",
       "    </tr>\n",
       "    <tr>\n",
       "      <th>c_baybe</th>\n",
       "      <td>c_baybe</td>\n",
       "      <td>gotta catch up on my showz</td>\n",
       "      <td>gotta catch up on my showz</td>\n",
       "      <td>0</td>\n",
       "      <td>None</td>\n",
       "    </tr>\n",
       "    <tr>\n",
       "      <th>alexwright09</th>\n",
       "      <td>alexwright09</td>\n",
       "      <td>@Tamalee I want your old computer!!! Mine is g...</td>\n",
       "      <td>i want your old computer mine is going on 7 ye...</td>\n",
       "      <td>1</td>\n",
       "      <td>Age</td>\n",
       "    </tr>\n",
       "    <tr>\n",
       "      <th>lookitsholly</th>\n",
       "      <td>lookitsholly</td>\n",
       "      <td>I just rented Twilight for a dollar. I feel so...</td>\n",
       "      <td>i just rented twilight for a dollar. i feel so...</td>\n",
       "      <td>1</td>\n",
       "      <td>Age</td>\n",
       "    </tr>\n",
       "    <tr>\n",
       "      <th>kransky</th>\n",
       "      <td>kransky</td>\n",
       "      <td>OMG Woolies bought Macro Wholefoods  NOOOOOOOO...</td>\n",
       "      <td>omg woolies bought macro wholefoods nooooooooo...</td>\n",
       "      <td>0</td>\n",
       "      <td>None</td>\n",
       "    </tr>\n",
       "    <tr>\n",
       "      <th>LawlietJourney</th>\n",
       "      <td>LawlietJourney</td>\n",
       "      <td>Gonna Lay in Bed Staring out the window Listin...</td>\n",
       "      <td>gonna lay in bed staring out the window listin...</td>\n",
       "      <td>0</td>\n",
       "      <td>None</td>\n",
       "    </tr>\n",
       "    <tr>\n",
       "      <th>crazeexdarkness</th>\n",
       "      <td>crazeexdarkness</td>\n",
       "      <td>@tommcfly Are you guys going to have a meet &amp;a...</td>\n",
       "      <td>are you guys going to have a meet &amp; greet in c...</td>\n",
       "      <td>1</td>\n",
       "      <td>Address</td>\n",
       "    </tr>\n",
       "    <tr>\n",
       "      <th>maryk3lly</th>\n",
       "      <td>maryk3lly</td>\n",
       "      <td>@jowalshy  awww poor thing.. i live in a unit ...</td>\n",
       "      <td>awww poor thing.. i live in a unit so i can on...</td>\n",
       "      <td>1</td>\n",
       "      <td>Address</td>\n",
       "    </tr>\n",
       "    <tr>\n",
       "      <th>Chloe_Alice</th>\n",
       "      <td>Chloe_Alice</td>\n",
       "      <td>ugh I'm up so early  I'm sooo tired</td>\n",
       "      <td>ugh i'm up so early i'm sooo tired</td>\n",
       "      <td>0</td>\n",
       "      <td>None</td>\n",
       "    </tr>\n",
       "    <tr>\n",
       "      <th>Tal_m</th>\n",
       "      <td>Tal_m</td>\n",
       "      <td>@angel_touch ...r u joining us  I guess thats ...</td>\n",
       "      <td>...r u joining us i guess thats a yes ..</td>\n",
       "      <td>0</td>\n",
       "      <td>None</td>\n",
       "    </tr>\n",
       "    <tr>\n",
       "      <th>seanloche</th>\n",
       "      <td>seanloche</td>\n",
       "      <td>Last worship set in Lexington then backto Nash...</td>\n",
       "      <td>last worship set in lexington then backto nash...</td>\n",
       "      <td>0</td>\n",
       "      <td>None</td>\n",
       "    </tr>\n",
       "    <tr>\n",
       "      <th>davidchang168</th>\n",
       "      <td>davidchang168</td>\n",
       "      <td>I used to eat(involuntary) a lot of Lactose wh...</td>\n",
       "      <td>i used to eatinvoluntary a lot of lactose when...</td>\n",
       "      <td>1</td>\n",
       "      <td>Age</td>\n",
       "    </tr>\n",
       "    <tr>\n",
       "      <th>michellemma</th>\n",
       "      <td>michellemma</td>\n",
       "      <td>@katrina2629 or won't be for thenext 3 weeks c...</td>\n",
       "      <td>or won't be for thenext 3 weeks cause i will b...</td>\n",
       "      <td>0</td>\n",
       "      <td>None</td>\n",
       "    </tr>\n",
       "    <tr>\n",
       "      <th>Ohh_itsKat</th>\n",
       "      <td>Ohh_itsKat</td>\n",
       "      <td>Shopping was a success. Not so much success wi...</td>\n",
       "      <td>shopping was a success. not so much success wi...</td>\n",
       "      <td>1</td>\n",
       "      <td>Bank</td>\n",
       "    </tr>\n",
       "    <tr>\n",
       "      <th>littleblue1994</th>\n",
       "      <td>littleblue1994</td>\n",
       "      <td>@mitchelmusso I wish i could come over to any ...</td>\n",
       "      <td>i wish i could come over to any of your concer...</td>\n",
       "      <td>1</td>\n",
       "      <td>Address</td>\n",
       "    </tr>\n",
       "    <tr>\n",
       "      <th>sberendt</th>\n",
       "      <td>sberendt</td>\n",
       "      <td>Definitely gonna get the PSP Go, too. Man, the...</td>\n",
       "      <td>definitely gonna get the psp go too. man there...</td>\n",
       "      <td>1</td>\n",
       "      <td>Bank</td>\n",
       "    </tr>\n",
       "    <tr>\n",
       "      <th>HamiHarri</th>\n",
       "      <td>HamiHarri</td>\n",
       "      <td>shutting down and heading to an internetless h...</td>\n",
       "      <td>shutting down and heading to an internetless h...</td>\n",
       "      <td>0</td>\n",
       "      <td>None</td>\n",
       "    </tr>\n",
       "    <tr>\n",
       "      <th>yestocarrots</th>\n",
       "      <td>yestocarrots</td>\n",
       "      <td>@glitteryglossy hmmm...let's talk. send me a n...</td>\n",
       "      <td>hmmm...let's talk. send me a note carrotattach...</td>\n",
       "      <td>1</td>\n",
       "      <td>Email</td>\n",
       "    </tr>\n",
       "    <tr>\n",
       "      <th>jcohen</th>\n",
       "      <td>jcohen</td>\n",
       "      <td>@stephenfry Fantastic. I love a good enigma!  ...</td>\n",
       "      <td>fantastic. i love a good enigma</td>\n",
       "      <td>0</td>\n",
       "      <td>None</td>\n",
       "    </tr>\n",
       "    <tr>\n",
       "      <th>surajram</th>\n",
       "      <td>surajram</td>\n",
       "      <td>Oh fuck. I've forgotten my bank customer Id fo...</td>\n",
       "      <td>oh fuck. i've forgotten my bank customer id fo...</td>\n",
       "      <td>1</td>\n",
       "      <td>Bank</td>\n",
       "    </tr>\n",
       "    <tr>\n",
       "      <th>floralthunder</th>\n",
       "      <td>floralthunder</td>\n",
       "      <td>I've just noticed that my right eye is majorly...</td>\n",
       "      <td>i've just noticed that my right eye is majorly...</td>\n",
       "      <td>0</td>\n",
       "      <td>None</td>\n",
       "    </tr>\n",
       "    <tr>\n",
       "      <th>stephmurden</th>\n",
       "      <td>stephmurden</td>\n",
       "      <td>had a great day at work but is sad to see one ...</td>\n",
       "      <td>had a great day at work but is sad to see one ...</td>\n",
       "      <td>0</td>\n",
       "      <td>None</td>\n",
       "    </tr>\n",
       "    <tr>\n",
       "      <th>aliciam0915</th>\n",
       "      <td>aliciam0915</td>\n",
       "      <td>@SJYWorld we just got into vegas. We're at our...</td>\n",
       "      <td>we just got into vegas. we're at our hotel now.</td>\n",
       "      <td>0</td>\n",
       "      <td>None</td>\n",
       "    </tr>\n",
       "    <tr>\n",
       "      <th>iheartjuicebox</th>\n",
       "      <td>iheartjuicebox</td>\n",
       "      <td>@EAZY_ERON Oh yeahhhh....I forgot to mention I...</td>\n",
       "      <td>oh yeahhhh....i forgot to mention i live in a ...</td>\n",
       "      <td>1</td>\n",
       "      <td>Address</td>\n",
       "    </tr>\n",
       "    <tr>\n",
       "      <th>etoile</th>\n",
       "      <td>etoile</td>\n",
       "      <td>@mike_nelson YES! That motel is the prime spot...</td>\n",
       "      <td>yes that motel is the prime spot there's alway...</td>\n",
       "      <td>0</td>\n",
       "      <td>None</td>\n",
       "    </tr>\n",
       "    <tr>\n",
       "      <th>SahmReviews</th>\n",
       "      <td>SahmReviews</td>\n",
       "      <td>@ShiploadofWilco Grrr. Finally back from vacat...</td>\n",
       "      <td>grrr. finally back from vacation. went to rsvp...</td>\n",
       "      <td>0</td>\n",
       "      <td>None</td>\n",
       "    </tr>\n",
       "  </tbody>\n",
       "</table>\n",
       "<p>200 rows × 5 columns</p>\n",
       "</div>"
      ],
      "text/plain": [
       "                            name  \\\n",
       "name                               \n",
       "oldskool90            oldskool90   \n",
       "HayleyNqahuia      HayleyNqahuia   \n",
       "truecarvalue        truecarvalue   \n",
       "fitprosarah          fitprosarah   \n",
       "FRECKLEFACEVICK  FRECKLEFACEVICK   \n",
       "starrynite01        starrynite01   \n",
       "dogzero                  dogzero   \n",
       "TiffKittie            TiffKittie   \n",
       "priscx                    priscx   \n",
       "caitlinclapton    caitlinclapton   \n",
       "FunkyCyco              FunkyCyco   \n",
       "OhBriBri                OhBriBri   \n",
       "ffidler                  ffidler   \n",
       "FaithLove1986      FaithLove1986   \n",
       "laurengrifoni      laurengrifoni   \n",
       "jaclynsantos        jaclynsantos   \n",
       "StephG22                StephG22   \n",
       "brianchong            brianchong   \n",
       "jbloomfield          jbloomfield   \n",
       "loborohan              loborohan   \n",
       "stevenschlom        stevenschlom   \n",
       "iSuthernBelle      iSuthernBelle   \n",
       "Mysticviolet1      Mysticviolet1   \n",
       "ReinaMerrick        ReinaMerrick   \n",
       "nikki_lfc              nikki_lfc   \n",
       "amandaboo89          amandaboo89   \n",
       "AmazinglyCaity    AmazinglyCaity   \n",
       "JoeyPepperoni      JoeyPepperoni   \n",
       "obnoxiousacorns  obnoxiousacorns   \n",
       "Hazedandconfuse  Hazedandconfuse   \n",
       "...                          ...   \n",
       "BSL1229                  BSL1229   \n",
       "Twilight_Babble  Twilight_Babble   \n",
       "NKrunner                NKrunner   \n",
       "margargargaret    margargargaret   \n",
       "DLDAVID                  DLDAVID   \n",
       "c_baybe                  c_baybe   \n",
       "alexwright09        alexwright09   \n",
       "lookitsholly        lookitsholly   \n",
       "kransky                  kransky   \n",
       "LawlietJourney    LawlietJourney   \n",
       "crazeexdarkness  crazeexdarkness   \n",
       "maryk3lly              maryk3lly   \n",
       "Chloe_Alice          Chloe_Alice   \n",
       "Tal_m                      Tal_m   \n",
       "seanloche              seanloche   \n",
       "davidchang168      davidchang168   \n",
       "michellemma          michellemma   \n",
       "Ohh_itsKat            Ohh_itsKat   \n",
       "littleblue1994    littleblue1994   \n",
       "sberendt                sberendt   \n",
       "HamiHarri              HamiHarri   \n",
       "yestocarrots        yestocarrots   \n",
       "jcohen                    jcohen   \n",
       "surajram                surajram   \n",
       "floralthunder      floralthunder   \n",
       "stephmurden          stephmurden   \n",
       "aliciam0915          aliciam0915   \n",
       "iheartjuicebox    iheartjuicebox   \n",
       "etoile                    etoile   \n",
       "SahmReviews          SahmReviews   \n",
       "\n",
       "                                                             tweet  \\\n",
       "name                                                                 \n",
       "oldskool90           DAMMIT. DAMMIT. DAMMIT. *Bangs head on desk*    \n",
       "HayleyNqahuia          @jane__ irl just ended lo. but it was good    \n",
       "truecarvalue     Good night for now. Keep sending your requests...   \n",
       "fitprosarah      @kravmascara Thanks, Sarah! When's your's?  @s...   \n",
       "FRECKLEFACEVICK                     @thecampingforum good morning    \n",
       "starrynite01     @JennyFOD Yay that makes me so happy! Have fun...   \n",
       "dogzero          @_ohsobangin Hi Amethyst, @Banksyart is now at...   \n",
       "TiffKittie       Back from my Columbia River Gorge trip with St...   \n",
       "priscx           @chermayneugenia wow he let u cut his hair. he...   \n",
       "caitlinclapton   what the fuck stop raining i want to sleep ton...   \n",
       "FunkyCyco        @gcrush I'm really digging what I'm reading ab...   \n",
       "OhBriBri         &quot;Beautiful One's&quot; by Prince of cours...   \n",
       "ffidler          @YeahThatsKosher thanks for the invite but I d...   \n",
       "FaithLove1986    Enjoying the new lap top   About to do this da...   \n",
       "laurengrifoni    @peterfacinelli perhaps i'm showing my age her...   \n",
       "jaclynsantos     The bay bridge run was sooooo much fun! Had te...   \n",
       "StephG22         @LaurenConrad I live in Wales, U.K and I'm dyy...   \n",
       "brianchong       every day in every way i am getting better and...   \n",
       "jbloomfield      @thsutton I have a very good Macbook Pro  Only...   \n",
       "loborohan        @MagaliLobo @MagaliLobo i have to go to sleep ...   \n",
       "stevenschlom     @iamdiddy Creative, the (you must be 21 years ...   \n",
       "iSuthernBelle    sup yall i need sum friends...so sad on this l...   \n",
       "Mysticviolet1    STILL reconcilling bloody key deposits,craving...   \n",
       "ReinaMerrick     The more I think about how terrible this trip ...   \n",
       "nikki_lfc        And shed just suffered 2 hours of dance :/ urg...   \n",
       "amandaboo89      I am bored at home while the boyfriend is slee...   \n",
       "AmazinglyCaity                                  @juleex3 it flows    \n",
       "JoeyPepperoni    Just made a new account...  I don't want to go...   \n",
       "obnoxiousacorns  I'm going to bed. Still tired from last night'...   \n",
       "Hazedandconfuse  @CheerldrMelissa Just be glad it wasnt the Und...   \n",
       "...                                                            ...   \n",
       "BSL1229          @moonfrye THAT WOULD BE MY SON! WITHOUT A DOUB...   \n",
       "Twilight_Babble  @robpttzlover101 yes he sure does have some cr...   \n",
       "NKrunner         @DonnieWahlberg packing for my flt to miami in...   \n",
       "margargargaret   @2moor i heard! everyone keeps telling me  als...   \n",
       "DLDAVID          @eriktreble  i love u just for saying that  we...   \n",
       "c_baybe                                gotta catch up on my showz    \n",
       "alexwright09     @Tamalee I want your old computer!!! Mine is g...   \n",
       "lookitsholly     I just rented Twilight for a dollar. I feel so...   \n",
       "kransky          OMG Woolies bought Macro Wholefoods  NOOOOOOOO...   \n",
       "LawlietJourney   Gonna Lay in Bed Staring out the window Listin...   \n",
       "crazeexdarkness  @tommcfly Are you guys going to have a meet &a...   \n",
       "maryk3lly        @jowalshy  awww poor thing.. i live in a unit ...   \n",
       "Chloe_Alice                    ugh I'm up so early  I'm sooo tired   \n",
       "Tal_m            @angel_touch ...r u joining us  I guess thats ...   \n",
       "seanloche        Last worship set in Lexington then backto Nash...   \n",
       "davidchang168    I used to eat(involuntary) a lot of Lactose wh...   \n",
       "michellemma      @katrina2629 or won't be for thenext 3 weeks c...   \n",
       "Ohh_itsKat       Shopping was a success. Not so much success wi...   \n",
       "littleblue1994   @mitchelmusso I wish i could come over to any ...   \n",
       "sberendt         Definitely gonna get the PSP Go, too. Man, the...   \n",
       "HamiHarri        shutting down and heading to an internetless h...   \n",
       "yestocarrots     @glitteryglossy hmmm...let's talk. send me a n...   \n",
       "jcohen           @stephenfry Fantastic. I love a good enigma!  ...   \n",
       "surajram         Oh fuck. I've forgotten my bank customer Id fo...   \n",
       "floralthunder    I've just noticed that my right eye is majorly...   \n",
       "stephmurden      had a great day at work but is sad to see one ...   \n",
       "aliciam0915      @SJYWorld we just got into vegas. We're at our...   \n",
       "iheartjuicebox   @EAZY_ERON Oh yeahhhh....I forgot to mention I...   \n",
       "etoile           @mike_nelson YES! That motel is the prime spot...   \n",
       "SahmReviews      @ShiploadofWilco Grrr. Finally back from vacat...   \n",
       "\n",
       "                                                   processed_tweet  \\\n",
       "name                                                                 \n",
       "oldskool90            dammit. dammit. dammit. *bangs head on desk*   \n",
       "HayleyNqahuia                   irl just ended lo. but it was good   \n",
       "truecarvalue     good night for now. keep sending your requests...   \n",
       "fitprosarah      thanks sarah when's your's has a bday this mon...   \n",
       "FRECKLEFACEVICK                                       good morning   \n",
       "starrynite01     yay that makes me so happy have fun say hi to ...   \n",
       "dogzero          @_ohsobangin hi amethyst is now at - he's been...   \n",
       "TiffKittie       back from my columbia river gorge trip with st...   \n",
       "priscx           wow he let u cut his hair. hehe...that's nice ...   \n",
       "caitlinclapton   what the fuck stop raining i want to sleep ton...   \n",
       "FunkyCyco        i'm really digging what i'm reading about it m...   \n",
       "OhBriBri         beautiful one's by prince of course....no can ...   \n",
       "ffidler          thanks for the invite but i don't think i can ...   \n",
       "FaithLove1986    enjoying the new lap top about to do this danc...   \n",
       "laurengrifoni    perhaps i'm showing my age here but you'll alw...   \n",
       "jaclynsantos     the bay bridge run was sooooo much fun had tec...   \n",
       "StephG22         i live in wales u.k and i'm dyyyyyying to get ...   \n",
       "brianchong       every day in every way i am getting better and...   \n",
       "jbloomfield      i have a very good macbook pro only 3 years ol...   \n",
       "loborohan        i have to go to sleep too have a nice evening ...   \n",
       "stevenschlom     creative the you must be 21 years old to watch...   \n",
       "iSuthernBelle    sup yall i need sum friends...so sad on this l...   \n",
       "Mysticviolet1    still reconcilling bloody key depositscraving ...   \n",
       "ReinaMerrick     the more i think about how terrible this trip ...   \n",
       "nikki_lfc        and shed just suffered 2 hours of dance urgh. ...   \n",
       "amandaboo89      i am bored at home while the boyfriend is slee...   \n",
       "AmazinglyCaity                                            it flows   \n",
       "JoeyPepperoni    just made a new account... i don't want to go ...   \n",
       "obnoxiousacorns  i'm going to bed. still tired from last night'...   \n",
       "Hazedandconfuse  just be glad it wasnt the underpants gnomes......   \n",
       "...                                                            ...   \n",
       "BSL1229          that would be my son without a doubt he's 12 y...   \n",
       "Twilight_Babble  yes he sure does have some crazy fans. i know ...   \n",
       "NKrunner         packing for my flt to miami in 3 hrs for the c...   \n",
       "margargargaret   @2moor i heard everyone keeps telling me also ...   \n",
       "DLDAVID          i love u just for saying that we have the supe...   \n",
       "c_baybe                                 gotta catch up on my showz   \n",
       "alexwright09     i want your old computer mine is going on 7 ye...   \n",
       "lookitsholly     i just rented twilight for a dollar. i feel so...   \n",
       "kransky          omg woolies bought macro wholefoods nooooooooo...   \n",
       "LawlietJourney   gonna lay in bed staring out the window listin...   \n",
       "crazeexdarkness  are you guys going to have a meet & greet in c...   \n",
       "maryk3lly        awww poor thing.. i live in a unit so i can on...   \n",
       "Chloe_Alice                     ugh i'm up so early i'm sooo tired   \n",
       "Tal_m                     ...r u joining us i guess thats a yes ..   \n",
       "seanloche        last worship set in lexington then backto nash...   \n",
       "davidchang168    i used to eatinvoluntary a lot of lactose when...   \n",
       "michellemma      or won't be for thenext 3 weeks cause i will b...   \n",
       "Ohh_itsKat       shopping was a success. not so much success wi...   \n",
       "littleblue1994   i wish i could come over to any of your concer...   \n",
       "sberendt         definitely gonna get the psp go too. man there...   \n",
       "HamiHarri        shutting down and heading to an internetless h...   \n",
       "yestocarrots     hmmm...let's talk. send me a note carrotattach...   \n",
       "jcohen                             fantastic. i love a good enigma   \n",
       "surajram         oh fuck. i've forgotten my bank customer id fo...   \n",
       "floralthunder    i've just noticed that my right eye is majorly...   \n",
       "stephmurden      had a great day at work but is sad to see one ...   \n",
       "aliciam0915        we just got into vegas. we're at our hotel now.   \n",
       "iheartjuicebox   oh yeahhhh....i forgot to mention i live in a ...   \n",
       "etoile           yes that motel is the prime spot there's alway...   \n",
       "SahmReviews      grrr. finally back from vacation. went to rsvp...   \n",
       "\n",
       "                 is_Threat_user  subject  \n",
       "name                                      \n",
       "oldskool90                    0     None  \n",
       "HayleyNqahuia                 0     None  \n",
       "truecarvalue                  1    Email  \n",
       "fitprosarah                   0     None  \n",
       "FRECKLEFACEVICK               0     None  \n",
       "starrynite01                  0     None  \n",
       "dogzero                       0     None  \n",
       "TiffKittie                    0     None  \n",
       "priscx                        0     None  \n",
       "caitlinclapton                0     None  \n",
       "FunkyCyco                     1     Bank  \n",
       "OhBriBri                      0     None  \n",
       "ffidler                       0     None  \n",
       "FaithLove1986                 0     None  \n",
       "laurengrifoni                 1      Age  \n",
       "jaclynsantos                  0     None  \n",
       "StephG22                      1  Address  \n",
       "brianchong                    0     None  \n",
       "jbloomfield                   1      Age  \n",
       "loborohan                     1    Email  \n",
       "stevenschlom                  1      Age  \n",
       "iSuthernBelle                 1    Email  \n",
       "Mysticviolet1                 0     None  \n",
       "ReinaMerrick                  1      Age  \n",
       "nikki_lfc                     0     None  \n",
       "amandaboo89                   0     None  \n",
       "AmazinglyCaity                0     None  \n",
       "JoeyPepperoni                 0     None  \n",
       "obnoxiousacorns               1    Email  \n",
       "Hazedandconfuse               0     None  \n",
       "...                         ...      ...  \n",
       "BSL1229                       1      Age  \n",
       "Twilight_Babble               1  Address  \n",
       "NKrunner                      0     None  \n",
       "margargargaret                1      Age  \n",
       "DLDAVID                       0     None  \n",
       "c_baybe                       0     None  \n",
       "alexwright09                  1      Age  \n",
       "lookitsholly                  1      Age  \n",
       "kransky                       0     None  \n",
       "LawlietJourney                0     None  \n",
       "crazeexdarkness               1  Address  \n",
       "maryk3lly                     1  Address  \n",
       "Chloe_Alice                   0     None  \n",
       "Tal_m                         0     None  \n",
       "seanloche                     0     None  \n",
       "davidchang168                 1      Age  \n",
       "michellemma                   0     None  \n",
       "Ohh_itsKat                    1     Bank  \n",
       "littleblue1994                1  Address  \n",
       "sberendt                      1     Bank  \n",
       "HamiHarri                     0     None  \n",
       "yestocarrots                  1    Email  \n",
       "jcohen                        0     None  \n",
       "surajram                      1     Bank  \n",
       "floralthunder                 0     None  \n",
       "stephmurden                   0     None  \n",
       "aliciam0915                   0     None  \n",
       "iheartjuicebox                1  Address  \n",
       "etoile                        0     None  \n",
       "SahmReviews                   0     None  \n",
       "\n",
       "[200 rows x 5 columns]"
      ]
     },
     "execution_count": 44,
     "metadata": {},
     "output_type": "execute_result"
    }
   ],
   "source": [
    "test_df.head(200)"
   ]
  },
  {
   "cell_type": "markdown",
   "metadata": {},
   "source": [
    "### Predict on new data"
   ]
  },
  {
   "cell_type": "code",
   "execution_count": 45,
   "metadata": {},
   "outputs": [
    {
     "name": "stderr",
     "output_type": "stream",
     "text": [
      "/home/aurobindo/anaconda3/lib/python3.6/site-packages/ipykernel_launcher.py:11: SettingWithCopyWarning: \n",
      "A value is trying to be set on a copy of a slice from a DataFrame.\n",
      "Try using .loc[row_indexer,col_indexer] = value instead\n",
      "\n",
      "See the caveats in the documentation: http://pandas.pydata.org/pandas-docs/stable/indexing.html#indexing-view-versus-copy\n",
      "  # This is added back by InteractiveShellApp.init_path()\n"
     ]
    }
   ],
   "source": [
    "# convert word to vector\n",
    "X_new_counts = count_vect.transform(test_tweet)\n",
    "\n",
    "# convert word count frequncy matrix\n",
    "X_new_tfidf = tfidf_transformer.transform(X_new_counts)\n",
    "\n",
    "# predict for the test data\n",
    "predicted =svm_clf.predict(test_tweet)\n",
    "\n",
    "# make a column for predicted value\n",
    "test_df['predicted'] = predicted\n",
    "\n",
    "# list of original label \n",
    "test_y = test_df['is_Threat_user'].tolist()"
   ]
  },
  {
   "cell_type": "code",
   "execution_count": 46,
   "metadata": {},
   "outputs": [
    {
     "name": "stdout",
     "output_type": "stream",
     "text": [
      "Accuracy on test set :  0.969620253165\n"
     ]
    }
   ],
   "source": [
    "# Accuracy on test set\n",
    "\n",
    "print(\"Accuracy on test set : \",np.mean(predicted == test_y))"
   ]
  },
  {
   "cell_type": "code",
   "execution_count": null,
   "metadata": {},
   "outputs": [],
   "source": []
  },
  {
   "cell_type": "markdown",
   "metadata": {},
   "source": [
    "## Misclassified tweet"
   ]
  },
  {
   "cell_type": "code",
   "execution_count": 47,
   "metadata": {},
   "outputs": [
    {
     "name": "stdout",
     "output_type": "stream",
     "text": [
      "Total misclassified tweet : (12, 6)\n"
     ]
    }
   ],
   "source": [
    "print(\"Total misclassified tweet :\",test_df[test_df['is_Threat_user'] != test_df['predicted']].shape)"
   ]
  },
  {
   "cell_type": "code",
   "execution_count": 48,
   "metadata": {
    "scrolled": true
   },
   "outputs": [],
   "source": [
    "mis_df = test_df[test_df['is_Threat_user'] != test_df['predicted']]"
   ]
  },
  {
   "cell_type": "markdown",
   "metadata": {},
   "source": [
    "#### misclassified invulnerable person's tweet"
   ]
  },
  {
   "cell_type": "code",
   "execution_count": 49,
   "metadata": {},
   "outputs": [
    {
     "name": "stdout",
     "output_type": "stream",
     "text": [
      "misclassified invulnerable person's tweet\n"
     ]
    }
   ],
   "source": [
    "print(\"misclassified invulnerable person's tweet\")"
   ]
  },
  {
   "cell_type": "code",
   "execution_count": 50,
   "metadata": {},
   "outputs": [
    {
     "name": "stdout",
     "output_type": "stream",
     "text": [
      "i want to see link 80 live! i think they are broken up though \n",
      "sorry my email is down and i'm unhappy \n",
      "@TwainHouse As to the adjective: when in doubt, strike it out. Still a motto to live by \n",
      "words to live by  ? http://blip.fm/~5z3ij\n"
     ]
    }
   ],
   "source": [
    "for i in mis_df[mis_df['predicted']==1]['tweet'].tolist():\n",
    "    print(i)"
   ]
  },
  {
   "cell_type": "markdown",
   "metadata": {},
   "source": [
    "#### misclassified vulnerable person's tweet"
   ]
  },
  {
   "cell_type": "code",
   "execution_count": 51,
   "metadata": {},
   "outputs": [
    {
     "name": "stdout",
     "output_type": "stream",
     "text": [
      "@Finnomatic yeah i remember! mines the 17th  we had this conversation how we were exactly 10 days apart, but your like what 7 years older?\n",
      "@russdogg dude, would u mind calling me? need some help bad  thanks! 3107736192\n",
      "Happy June! Rates start at $189 today  Dont forget Dave Matthews is playing at SPAC on 6/12 and we still have availability! 518-783-0600\n",
      "@roadgurl5  aha! for a mo I thought it had somehow got hold of my DOB and served the correct horoscope... confusing! And sensitive, yep! \n",
      "Friday Follow!! @eddyizm@heathenshearth@littlereddoor@bohemeanne@islaluna@littlepapoose@kreativlink@rachelstyle... hoping that worked. \n",
      "good morning guys  back on the air! gonna do the morning 3 some in a few! call and win some tixx 1888 414 2104\n",
      "How does http://www.bing.com know my home address?  \n",
      "Bored as hell. Txt  619 245 7622\n"
     ]
    }
   ],
   "source": [
    "for i in mis_df[mis_df['predicted']==0]['tweet'].tolist():\n",
    "    print(i)"
   ]
  },
  {
   "cell_type": "markdown",
   "metadata": {},
   "source": [
    "## Prediction on new dataset"
   ]
  },
  {
   "cell_type": "code",
   "execution_count": 52,
   "metadata": {},
   "outputs": [
    {
     "data": {
      "text/html": [
       "<div>\n",
       "<style scoped>\n",
       "    .dataframe tbody tr th:only-of-type {\n",
       "        vertical-align: middle;\n",
       "    }\n",
       "\n",
       "    .dataframe tbody tr th {\n",
       "        vertical-align: top;\n",
       "    }\n",
       "\n",
       "    .dataframe thead th {\n",
       "        text-align: right;\n",
       "    }\n",
       "</style>\n",
       "<table border=\"1\" class=\"dataframe\">\n",
       "  <thead>\n",
       "    <tr style=\"text-align: right;\">\n",
       "      <th></th>\n",
       "      <th>name</th>\n",
       "      <th>tweet</th>\n",
       "      <th>processed_tweet</th>\n",
       "      <th>is_Threat_user</th>\n",
       "      <th>subject</th>\n",
       "      <th>predicted</th>\n",
       "    </tr>\n",
       "    <tr>\n",
       "      <th>name</th>\n",
       "      <th></th>\n",
       "      <th></th>\n",
       "      <th></th>\n",
       "      <th></th>\n",
       "      <th></th>\n",
       "      <th></th>\n",
       "    </tr>\n",
       "  </thead>\n",
       "  <tbody>\n",
       "    <tr>\n",
       "      <th>oldskool90</th>\n",
       "      <td>oldskool90</td>\n",
       "      <td>DAMMIT. DAMMIT. DAMMIT. *Bangs head on desk*</td>\n",
       "      <td>dammit. dammit. dammit. *bangs head on desk*</td>\n",
       "      <td>0</td>\n",
       "      <td>None</td>\n",
       "      <td>0</td>\n",
       "    </tr>\n",
       "    <tr>\n",
       "      <th>HayleyNqahuia</th>\n",
       "      <td>HayleyNqahuia</td>\n",
       "      <td>@jane__ irl just ended lo. but it was good</td>\n",
       "      <td>irl just ended lo. but it was good</td>\n",
       "      <td>0</td>\n",
       "      <td>None</td>\n",
       "      <td>0</td>\n",
       "    </tr>\n",
       "    <tr>\n",
       "      <th>truecarvalue</th>\n",
       "      <td>truecarvalue</td>\n",
       "      <td>Good night for now. Keep sending your requests...</td>\n",
       "      <td>good night for now. keep sending your requests...</td>\n",
       "      <td>1</td>\n",
       "      <td>Email</td>\n",
       "      <td>1</td>\n",
       "    </tr>\n",
       "    <tr>\n",
       "      <th>fitprosarah</th>\n",
       "      <td>fitprosarah</td>\n",
       "      <td>@kravmascara Thanks, Sarah! When's your's?  @s...</td>\n",
       "      <td>thanks sarah when's your's has a bday this mon...</td>\n",
       "      <td>0</td>\n",
       "      <td>None</td>\n",
       "      <td>0</td>\n",
       "    </tr>\n",
       "    <tr>\n",
       "      <th>FRECKLEFACEVICK</th>\n",
       "      <td>FRECKLEFACEVICK</td>\n",
       "      <td>@thecampingforum good morning</td>\n",
       "      <td>good morning</td>\n",
       "      <td>0</td>\n",
       "      <td>None</td>\n",
       "      <td>0</td>\n",
       "    </tr>\n",
       "    <tr>\n",
       "      <th>starrynite01</th>\n",
       "      <td>starrynite01</td>\n",
       "      <td>@JennyFOD Yay that makes me so happy! Have fun...</td>\n",
       "      <td>yay that makes me so happy have fun say hi to ...</td>\n",
       "      <td>0</td>\n",
       "      <td>None</td>\n",
       "      <td>0</td>\n",
       "    </tr>\n",
       "    <tr>\n",
       "      <th>dogzero</th>\n",
       "      <td>dogzero</td>\n",
       "      <td>@_ohsobangin Hi Amethyst, @Banksyart is now at...</td>\n",
       "      <td>@_ohsobangin hi amethyst is now at - he's been...</td>\n",
       "      <td>0</td>\n",
       "      <td>None</td>\n",
       "      <td>0</td>\n",
       "    </tr>\n",
       "    <tr>\n",
       "      <th>TiffKittie</th>\n",
       "      <td>TiffKittie</td>\n",
       "      <td>Back from my Columbia River Gorge trip with St...</td>\n",
       "      <td>back from my columbia river gorge trip with st...</td>\n",
       "      <td>0</td>\n",
       "      <td>None</td>\n",
       "      <td>0</td>\n",
       "    </tr>\n",
       "    <tr>\n",
       "      <th>priscx</th>\n",
       "      <td>priscx</td>\n",
       "      <td>@chermayneugenia wow he let u cut his hair. he...</td>\n",
       "      <td>wow he let u cut his hair. hehe...that's nice ...</td>\n",
       "      <td>0</td>\n",
       "      <td>None</td>\n",
       "      <td>0</td>\n",
       "    </tr>\n",
       "    <tr>\n",
       "      <th>caitlinclapton</th>\n",
       "      <td>caitlinclapton</td>\n",
       "      <td>what the fuck stop raining i want to sleep ton...</td>\n",
       "      <td>what the fuck stop raining i want to sleep ton...</td>\n",
       "      <td>0</td>\n",
       "      <td>None</td>\n",
       "      <td>0</td>\n",
       "    </tr>\n",
       "    <tr>\n",
       "      <th>FunkyCyco</th>\n",
       "      <td>FunkyCyco</td>\n",
       "      <td>@gcrush I'm really digging what I'm reading ab...</td>\n",
       "      <td>i'm really digging what i'm reading about it m...</td>\n",
       "      <td>1</td>\n",
       "      <td>Bank</td>\n",
       "      <td>1</td>\n",
       "    </tr>\n",
       "    <tr>\n",
       "      <th>OhBriBri</th>\n",
       "      <td>OhBriBri</td>\n",
       "      <td>&amp;quot;Beautiful One's&amp;quot; by Prince of cours...</td>\n",
       "      <td>beautiful one's by prince of course....no can ...</td>\n",
       "      <td>0</td>\n",
       "      <td>None</td>\n",
       "      <td>0</td>\n",
       "    </tr>\n",
       "    <tr>\n",
       "      <th>ffidler</th>\n",
       "      <td>ffidler</td>\n",
       "      <td>@YeahThatsKosher thanks for the invite but I d...</td>\n",
       "      <td>thanks for the invite but i don't think i can ...</td>\n",
       "      <td>0</td>\n",
       "      <td>None</td>\n",
       "      <td>0</td>\n",
       "    </tr>\n",
       "    <tr>\n",
       "      <th>FaithLove1986</th>\n",
       "      <td>FaithLove1986</td>\n",
       "      <td>Enjoying the new lap top   About to do this da...</td>\n",
       "      <td>enjoying the new lap top about to do this danc...</td>\n",
       "      <td>0</td>\n",
       "      <td>None</td>\n",
       "      <td>0</td>\n",
       "    </tr>\n",
       "    <tr>\n",
       "      <th>laurengrifoni</th>\n",
       "      <td>laurengrifoni</td>\n",
       "      <td>@peterfacinelli perhaps i'm showing my age her...</td>\n",
       "      <td>perhaps i'm showing my age here but you'll alw...</td>\n",
       "      <td>1</td>\n",
       "      <td>Age</td>\n",
       "      <td>1</td>\n",
       "    </tr>\n",
       "    <tr>\n",
       "      <th>jaclynsantos</th>\n",
       "      <td>jaclynsantos</td>\n",
       "      <td>The bay bridge run was sooooo much fun! Had te...</td>\n",
       "      <td>the bay bridge run was sooooo much fun had tec...</td>\n",
       "      <td>0</td>\n",
       "      <td>None</td>\n",
       "      <td>0</td>\n",
       "    </tr>\n",
       "    <tr>\n",
       "      <th>StephG22</th>\n",
       "      <td>StephG22</td>\n",
       "      <td>@LaurenConrad I live in Wales, U.K and I'm dyy...</td>\n",
       "      <td>i live in wales u.k and i'm dyyyyyying to get ...</td>\n",
       "      <td>1</td>\n",
       "      <td>Address</td>\n",
       "      <td>1</td>\n",
       "    </tr>\n",
       "    <tr>\n",
       "      <th>brianchong</th>\n",
       "      <td>brianchong</td>\n",
       "      <td>every day in every way i am getting better and...</td>\n",
       "      <td>every day in every way i am getting better and...</td>\n",
       "      <td>0</td>\n",
       "      <td>None</td>\n",
       "      <td>0</td>\n",
       "    </tr>\n",
       "    <tr>\n",
       "      <th>jbloomfield</th>\n",
       "      <td>jbloomfield</td>\n",
       "      <td>@thsutton I have a very good Macbook Pro  Only...</td>\n",
       "      <td>i have a very good macbook pro only 3 years ol...</td>\n",
       "      <td>1</td>\n",
       "      <td>Age</td>\n",
       "      <td>1</td>\n",
       "    </tr>\n",
       "    <tr>\n",
       "      <th>loborohan</th>\n",
       "      <td>loborohan</td>\n",
       "      <td>@MagaliLobo @MagaliLobo i have to go to sleep ...</td>\n",
       "      <td>i have to go to sleep too have a nice evening ...</td>\n",
       "      <td>1</td>\n",
       "      <td>Email</td>\n",
       "      <td>1</td>\n",
       "    </tr>\n",
       "  </tbody>\n",
       "</table>\n",
       "</div>"
      ],
      "text/plain": [
       "                            name  \\\n",
       "name                               \n",
       "oldskool90            oldskool90   \n",
       "HayleyNqahuia      HayleyNqahuia   \n",
       "truecarvalue        truecarvalue   \n",
       "fitprosarah          fitprosarah   \n",
       "FRECKLEFACEVICK  FRECKLEFACEVICK   \n",
       "starrynite01        starrynite01   \n",
       "dogzero                  dogzero   \n",
       "TiffKittie            TiffKittie   \n",
       "priscx                    priscx   \n",
       "caitlinclapton    caitlinclapton   \n",
       "FunkyCyco              FunkyCyco   \n",
       "OhBriBri                OhBriBri   \n",
       "ffidler                  ffidler   \n",
       "FaithLove1986      FaithLove1986   \n",
       "laurengrifoni      laurengrifoni   \n",
       "jaclynsantos        jaclynsantos   \n",
       "StephG22                StephG22   \n",
       "brianchong            brianchong   \n",
       "jbloomfield          jbloomfield   \n",
       "loborohan              loborohan   \n",
       "\n",
       "                                                             tweet  \\\n",
       "name                                                                 \n",
       "oldskool90           DAMMIT. DAMMIT. DAMMIT. *Bangs head on desk*    \n",
       "HayleyNqahuia          @jane__ irl just ended lo. but it was good    \n",
       "truecarvalue     Good night for now. Keep sending your requests...   \n",
       "fitprosarah      @kravmascara Thanks, Sarah! When's your's?  @s...   \n",
       "FRECKLEFACEVICK                     @thecampingforum good morning    \n",
       "starrynite01     @JennyFOD Yay that makes me so happy! Have fun...   \n",
       "dogzero          @_ohsobangin Hi Amethyst, @Banksyart is now at...   \n",
       "TiffKittie       Back from my Columbia River Gorge trip with St...   \n",
       "priscx           @chermayneugenia wow he let u cut his hair. he...   \n",
       "caitlinclapton   what the fuck stop raining i want to sleep ton...   \n",
       "FunkyCyco        @gcrush I'm really digging what I'm reading ab...   \n",
       "OhBriBri         &quot;Beautiful One's&quot; by Prince of cours...   \n",
       "ffidler          @YeahThatsKosher thanks for the invite but I d...   \n",
       "FaithLove1986    Enjoying the new lap top   About to do this da...   \n",
       "laurengrifoni    @peterfacinelli perhaps i'm showing my age her...   \n",
       "jaclynsantos     The bay bridge run was sooooo much fun! Had te...   \n",
       "StephG22         @LaurenConrad I live in Wales, U.K and I'm dyy...   \n",
       "brianchong       every day in every way i am getting better and...   \n",
       "jbloomfield      @thsutton I have a very good Macbook Pro  Only...   \n",
       "loborohan        @MagaliLobo @MagaliLobo i have to go to sleep ...   \n",
       "\n",
       "                                                   processed_tweet  \\\n",
       "name                                                                 \n",
       "oldskool90            dammit. dammit. dammit. *bangs head on desk*   \n",
       "HayleyNqahuia                   irl just ended lo. but it was good   \n",
       "truecarvalue     good night for now. keep sending your requests...   \n",
       "fitprosarah      thanks sarah when's your's has a bday this mon...   \n",
       "FRECKLEFACEVICK                                       good morning   \n",
       "starrynite01     yay that makes me so happy have fun say hi to ...   \n",
       "dogzero          @_ohsobangin hi amethyst is now at - he's been...   \n",
       "TiffKittie       back from my columbia river gorge trip with st...   \n",
       "priscx           wow he let u cut his hair. hehe...that's nice ...   \n",
       "caitlinclapton   what the fuck stop raining i want to sleep ton...   \n",
       "FunkyCyco        i'm really digging what i'm reading about it m...   \n",
       "OhBriBri         beautiful one's by prince of course....no can ...   \n",
       "ffidler          thanks for the invite but i don't think i can ...   \n",
       "FaithLove1986    enjoying the new lap top about to do this danc...   \n",
       "laurengrifoni    perhaps i'm showing my age here but you'll alw...   \n",
       "jaclynsantos     the bay bridge run was sooooo much fun had tec...   \n",
       "StephG22         i live in wales u.k and i'm dyyyyyying to get ...   \n",
       "brianchong       every day in every way i am getting better and...   \n",
       "jbloomfield      i have a very good macbook pro only 3 years ol...   \n",
       "loborohan        i have to go to sleep too have a nice evening ...   \n",
       "\n",
       "                 is_Threat_user  subject  predicted  \n",
       "name                                                 \n",
       "oldskool90                    0     None          0  \n",
       "HayleyNqahuia                 0     None          0  \n",
       "truecarvalue                  1    Email          1  \n",
       "fitprosarah                   0     None          0  \n",
       "FRECKLEFACEVICK               0     None          0  \n",
       "starrynite01                  0     None          0  \n",
       "dogzero                       0     None          0  \n",
       "TiffKittie                    0     None          0  \n",
       "priscx                        0     None          0  \n",
       "caitlinclapton                0     None          0  \n",
       "FunkyCyco                     1     Bank          1  \n",
       "OhBriBri                      0     None          0  \n",
       "ffidler                       0     None          0  \n",
       "FaithLove1986                 0     None          0  \n",
       "laurengrifoni                 1      Age          1  \n",
       "jaclynsantos                  0     None          0  \n",
       "StephG22                      1  Address          1  \n",
       "brianchong                    0     None          0  \n",
       "jbloomfield                   1      Age          1  \n",
       "loborohan                     1    Email          1  "
      ]
     },
     "execution_count": 52,
     "metadata": {},
     "output_type": "execute_result"
    }
   ],
   "source": [
    "test_df.head(20)"
   ]
  },
  {
   "cell_type": "code",
   "execution_count": 53,
   "metadata": {},
   "outputs": [],
   "source": [
    "test_df.to_csv(\"prediction.csv\",index=False)"
   ]
  },
  {
   "cell_type": "code",
   "execution_count": 54,
   "metadata": {},
   "outputs": [],
   "source": [
    "def result(person):\n",
    "    \n",
    "    tweet = [test_df.loc[person]['tweet']]\n",
    "    \n",
    "    X_new_counts = count_vect.transform(tweet)\n",
    "    X_new_tfidf = tfidf_transformer.transform(X_new_counts)\n",
    "    predicted =svm_clf.predict(tweet)\n",
    "    \n",
    "    print(\" <{}> user tweet this ---> \\n\\n{}\".format(person,test_df.loc[person]['tweet']))\n",
    "    \n",
    "    print(\"\\n*****************************\")\n",
    "    \n",
    "    if predicted==1:\n",
    "        print(\"<{}> user is in risk\".format(person))\n",
    "    else:\n",
    "        print(\"<{}> user is not in risk\".format(person))\n",
    "    return None"
   ]
  },
  {
   "cell_type": "code",
   "execution_count": 55,
   "metadata": {},
   "outputs": [
    {
     "ename": "KeyError",
     "evalue": "'the label [withlovex22] is not in the [index]'",
     "output_type": "error",
     "traceback": [
      "\u001b[0;31m---------------------------------------------------------------------------\u001b[0m",
      "\u001b[0;31mKeyError\u001b[0m                                  Traceback (most recent call last)",
      "\u001b[0;32m~/anaconda3/lib/python3.6/site-packages/pandas/core/indexing.py\u001b[0m in \u001b[0;36m_validate_key\u001b[0;34m(self, key, axis)\u001b[0m\n\u001b[1;32m   1789\u001b[0m                 \u001b[0;32mif\u001b[0m \u001b[0;32mnot\u001b[0m \u001b[0max\u001b[0m\u001b[0;34m.\u001b[0m\u001b[0mcontains\u001b[0m\u001b[0;34m(\u001b[0m\u001b[0mkey\u001b[0m\u001b[0;34m)\u001b[0m\u001b[0;34m:\u001b[0m\u001b[0;34m\u001b[0m\u001b[0m\n\u001b[0;32m-> 1790\u001b[0;31m                     \u001b[0merror\u001b[0m\u001b[0;34m(\u001b[0m\u001b[0;34m)\u001b[0m\u001b[0;34m\u001b[0m\u001b[0m\n\u001b[0m\u001b[1;32m   1791\u001b[0m             \u001b[0;32mexcept\u001b[0m \u001b[0mTypeError\u001b[0m \u001b[0;32mas\u001b[0m \u001b[0me\u001b[0m\u001b[0;34m:\u001b[0m\u001b[0;34m\u001b[0m\u001b[0m\n",
      "\u001b[0;32m~/anaconda3/lib/python3.6/site-packages/pandas/core/indexing.py\u001b[0m in \u001b[0;36merror\u001b[0;34m()\u001b[0m\n\u001b[1;32m   1784\u001b[0m                                .format(key=key,\n\u001b[0;32m-> 1785\u001b[0;31m                                        axis=self.obj._get_axis_name(axis)))\n\u001b[0m\u001b[1;32m   1786\u001b[0m \u001b[0;34m\u001b[0m\u001b[0m\n",
      "\u001b[0;31mKeyError\u001b[0m: 'the label [withlovex22] is not in the [index]'",
      "\nDuring handling of the above exception, another exception occurred:\n",
      "\u001b[0;31mKeyError\u001b[0m                                  Traceback (most recent call last)",
      "\u001b[0;32m<ipython-input-55-16c1e116c3ae>\u001b[0m in \u001b[0;36m<module>\u001b[0;34m()\u001b[0m\n\u001b[0;32m----> 1\u001b[0;31m \u001b[0mresult\u001b[0m\u001b[0;34m(\u001b[0m\u001b[0;34m'withlovex22'\u001b[0m\u001b[0;34m)\u001b[0m\u001b[0;34m\u001b[0m\u001b[0m\n\u001b[0m",
      "\u001b[0;32m<ipython-input-54-baa76df84fe2>\u001b[0m in \u001b[0;36mresult\u001b[0;34m(person)\u001b[0m\n\u001b[1;32m      1\u001b[0m \u001b[0;32mdef\u001b[0m \u001b[0mresult\u001b[0m\u001b[0;34m(\u001b[0m\u001b[0mperson\u001b[0m\u001b[0;34m)\u001b[0m\u001b[0;34m:\u001b[0m\u001b[0;34m\u001b[0m\u001b[0m\n\u001b[1;32m      2\u001b[0m \u001b[0;34m\u001b[0m\u001b[0m\n\u001b[0;32m----> 3\u001b[0;31m     \u001b[0mtweet\u001b[0m \u001b[0;34m=\u001b[0m \u001b[0;34m[\u001b[0m\u001b[0mtest_df\u001b[0m\u001b[0;34m.\u001b[0m\u001b[0mloc\u001b[0m\u001b[0;34m[\u001b[0m\u001b[0mperson\u001b[0m\u001b[0;34m]\u001b[0m\u001b[0;34m[\u001b[0m\u001b[0;34m'tweet'\u001b[0m\u001b[0;34m]\u001b[0m\u001b[0;34m]\u001b[0m\u001b[0;34m\u001b[0m\u001b[0m\n\u001b[0m\u001b[1;32m      4\u001b[0m \u001b[0;34m\u001b[0m\u001b[0m\n\u001b[1;32m      5\u001b[0m     \u001b[0mX_new_counts\u001b[0m \u001b[0;34m=\u001b[0m \u001b[0mcount_vect\u001b[0m\u001b[0;34m.\u001b[0m\u001b[0mtransform\u001b[0m\u001b[0;34m(\u001b[0m\u001b[0mtweet\u001b[0m\u001b[0;34m)\u001b[0m\u001b[0;34m\u001b[0m\u001b[0m\n",
      "\u001b[0;32m~/anaconda3/lib/python3.6/site-packages/pandas/core/indexing.py\u001b[0m in \u001b[0;36m__getitem__\u001b[0;34m(self, key)\u001b[0m\n\u001b[1;32m   1476\u001b[0m \u001b[0;34m\u001b[0m\u001b[0m\n\u001b[1;32m   1477\u001b[0m             \u001b[0mmaybe_callable\u001b[0m \u001b[0;34m=\u001b[0m \u001b[0mcom\u001b[0m\u001b[0;34m.\u001b[0m\u001b[0m_apply_if_callable\u001b[0m\u001b[0;34m(\u001b[0m\u001b[0mkey\u001b[0m\u001b[0;34m,\u001b[0m \u001b[0mself\u001b[0m\u001b[0;34m.\u001b[0m\u001b[0mobj\u001b[0m\u001b[0;34m)\u001b[0m\u001b[0;34m\u001b[0m\u001b[0m\n\u001b[0;32m-> 1478\u001b[0;31m             \u001b[0;32mreturn\u001b[0m \u001b[0mself\u001b[0m\u001b[0;34m.\u001b[0m\u001b[0m_getitem_axis\u001b[0m\u001b[0;34m(\u001b[0m\u001b[0mmaybe_callable\u001b[0m\u001b[0;34m,\u001b[0m \u001b[0maxis\u001b[0m\u001b[0;34m=\u001b[0m\u001b[0maxis\u001b[0m\u001b[0;34m)\u001b[0m\u001b[0;34m\u001b[0m\u001b[0m\n\u001b[0m\u001b[1;32m   1479\u001b[0m \u001b[0;34m\u001b[0m\u001b[0m\n\u001b[1;32m   1480\u001b[0m     \u001b[0;32mdef\u001b[0m \u001b[0m_is_scalar_access\u001b[0m\u001b[0;34m(\u001b[0m\u001b[0mself\u001b[0m\u001b[0;34m,\u001b[0m \u001b[0mkey\u001b[0m\u001b[0;34m)\u001b[0m\u001b[0;34m:\u001b[0m\u001b[0;34m\u001b[0m\u001b[0m\n",
      "\u001b[0;32m~/anaconda3/lib/python3.6/site-packages/pandas/core/indexing.py\u001b[0m in \u001b[0;36m_getitem_axis\u001b[0;34m(self, key, axis)\u001b[0m\n\u001b[1;32m   1909\u001b[0m \u001b[0;34m\u001b[0m\u001b[0m\n\u001b[1;32m   1910\u001b[0m         \u001b[0;31m# fall thru to straight lookup\u001b[0m\u001b[0;34m\u001b[0m\u001b[0;34m\u001b[0m\u001b[0m\n\u001b[0;32m-> 1911\u001b[0;31m         \u001b[0mself\u001b[0m\u001b[0;34m.\u001b[0m\u001b[0m_validate_key\u001b[0m\u001b[0;34m(\u001b[0m\u001b[0mkey\u001b[0m\u001b[0;34m,\u001b[0m \u001b[0maxis\u001b[0m\u001b[0;34m)\u001b[0m\u001b[0;34m\u001b[0m\u001b[0m\n\u001b[0m\u001b[1;32m   1912\u001b[0m         \u001b[0;32mreturn\u001b[0m \u001b[0mself\u001b[0m\u001b[0;34m.\u001b[0m\u001b[0m_get_label\u001b[0m\u001b[0;34m(\u001b[0m\u001b[0mkey\u001b[0m\u001b[0;34m,\u001b[0m \u001b[0maxis\u001b[0m\u001b[0;34m=\u001b[0m\u001b[0maxis\u001b[0m\u001b[0;34m)\u001b[0m\u001b[0;34m\u001b[0m\u001b[0m\n\u001b[1;32m   1913\u001b[0m \u001b[0;34m\u001b[0m\u001b[0m\n",
      "\u001b[0;32m~/anaconda3/lib/python3.6/site-packages/pandas/core/indexing.py\u001b[0m in \u001b[0;36m_validate_key\u001b[0;34m(self, key, axis)\u001b[0m\n\u001b[1;32m   1796\u001b[0m                 \u001b[0;32mraise\u001b[0m\u001b[0;34m\u001b[0m\u001b[0m\n\u001b[1;32m   1797\u001b[0m             \u001b[0;32mexcept\u001b[0m\u001b[0;34m:\u001b[0m\u001b[0;34m\u001b[0m\u001b[0m\n\u001b[0;32m-> 1798\u001b[0;31m                 \u001b[0merror\u001b[0m\u001b[0;34m(\u001b[0m\u001b[0;34m)\u001b[0m\u001b[0;34m\u001b[0m\u001b[0m\n\u001b[0m\u001b[1;32m   1799\u001b[0m \u001b[0;34m\u001b[0m\u001b[0m\n\u001b[1;32m   1800\u001b[0m     \u001b[0;32mdef\u001b[0m \u001b[0m_is_scalar_access\u001b[0m\u001b[0;34m(\u001b[0m\u001b[0mself\u001b[0m\u001b[0;34m,\u001b[0m \u001b[0mkey\u001b[0m\u001b[0;34m)\u001b[0m\u001b[0;34m:\u001b[0m\u001b[0;34m\u001b[0m\u001b[0m\n",
      "\u001b[0;32m~/anaconda3/lib/python3.6/site-packages/pandas/core/indexing.py\u001b[0m in \u001b[0;36merror\u001b[0;34m()\u001b[0m\n\u001b[1;32m   1783\u001b[0m                 raise KeyError(u\"the label [{key}] is not in the [{axis}]\"\n\u001b[1;32m   1784\u001b[0m                                .format(key=key,\n\u001b[0;32m-> 1785\u001b[0;31m                                        axis=self.obj._get_axis_name(axis)))\n\u001b[0m\u001b[1;32m   1786\u001b[0m \u001b[0;34m\u001b[0m\u001b[0m\n\u001b[1;32m   1787\u001b[0m             \u001b[0;32mtry\u001b[0m\u001b[0;34m:\u001b[0m\u001b[0;34m\u001b[0m\u001b[0m\n",
      "\u001b[0;31mKeyError\u001b[0m: 'the label [withlovex22] is not in the [index]'"
     ]
    }
   ],
   "source": [
    "result('withlovex22')"
   ]
  },
  {
   "cell_type": "code",
   "execution_count": null,
   "metadata": {},
   "outputs": [],
   "source": []
  },
  {
   "cell_type": "code",
   "execution_count": null,
   "metadata": {},
   "outputs": [],
   "source": []
  }
 ],
 "metadata": {
  "kernelspec": {
   "display_name": "Python 3",
   "language": "python",
   "name": "python3"
  },
  "language_info": {
   "codemirror_mode": {
    "name": "ipython",
    "version": 3
   },
   "file_extension": ".py",
   "mimetype": "text/x-python",
   "name": "python",
   "nbconvert_exporter": "python",
   "pygments_lexer": "ipython3",
   "version": "3.6.6"
  }
 },
 "nbformat": 4,
 "nbformat_minor": 2
}
